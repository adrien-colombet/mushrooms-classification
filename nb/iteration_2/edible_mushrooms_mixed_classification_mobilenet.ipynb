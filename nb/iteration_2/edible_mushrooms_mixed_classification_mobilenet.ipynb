{
 "cells": [
  {
   "cell_type": "code",
   "execution_count": null,
   "id": "8c2ee5a2",
   "metadata": {},
   "outputs": [],
   "source": [
    "!python --version"
   ]
  },
  {
   "cell_type": "code",
   "execution_count": null,
   "id": "282735e6",
   "metadata": {},
   "outputs": [],
   "source": [
    "import tensorflow as tf\n",
    "#import tensorflow_datasets as tfds\n",
    "print(\"TensorFlow version:\", tf.__version__)\n",
    "#print(\"Num GPUs Available: \", len(tf.config.experimental.list_physical_devices('GPU')))"
   ]
  },
  {
   "cell_type": "code",
   "execution_count": null,
   "id": "024bf364",
   "metadata": {},
   "outputs": [],
   "source": [
    "# import du dataset\n",
    "import pandas as pd\n",
    "import seaborn as sns\n",
    "import numpy as np"
   ]
  },
  {
   "cell_type": "code",
   "execution_count": null,
   "id": "cae72513",
   "metadata": {},
   "outputs": [],
   "source": [
    "df = pd.read_csv('../../dataset/edible_mushrooms.csv')"
   ]
  },
  {
   "cell_type": "code",
   "execution_count": null,
   "id": "a32995fc",
   "metadata": {},
   "outputs": [],
   "source": [
    "import matplotlib.pyplot as plt\n",
    "import seaborn as sns\n",
    "fig, ax = plt.subplots(figsize=(12,3))\n",
    "ax = sns.countplot(data = df, x = 'mixed', alpha = 0.7)\n",
    "\n",
    "plt.setp(ax.get_xticklabels(), rotation=30, ha=\"right\")\n",
    "ax.set_xlabel('mixed')\n",
    "ax.set_ylabel('nombre de photos')\n",
    "ax.set_title('nombre de photos par species pour les champignons comestibles');"
   ]
  },
  {
   "cell_type": "code",
   "execution_count": null,
   "id": "855ef536",
   "metadata": {},
   "outputs": [],
   "source": [
    "max_size = df['order'].value_counts().max()\n",
    "max_size = min(max_size, 5000)"
   ]
  },
  {
   "cell_type": "code",
   "execution_count": null,
   "id": "5a3da8f5",
   "metadata": {},
   "outputs": [],
   "source": [
    "for index, value in df['order'].value_counts().items():\n",
    "    print(f\"{index}: {value}\")"
   ]
  },
  {
   "cell_type": "markdown",
   "id": "fe4be74f",
   "metadata": {},
   "source": [
    "# Generating data"
   ]
  },
  {
   "cell_type": "code",
   "execution_count": null,
   "id": "c5f7dd4c",
   "metadata": {},
   "outputs": [],
   "source": [
    "train_path='../../dataset/mixed/train'\n",
    "test_path='../../dataset/mixed/test'"
   ]
  },
  {
   "cell_type": "code",
   "execution_count": null,
   "id": "82588c77",
   "metadata": {},
   "outputs": [],
   "source": [
    "from tensorflow.keras.applications.mobilenet import preprocess_input\n",
    "from tensorflow.keras.preprocessing.image import ImageDataGenerator"
   ]
  },
  {
   "cell_type": "code",
   "execution_count": null,
   "id": "b6476c26",
   "metadata": {},
   "outputs": [],
   "source": [
    "train_data_generator = ImageDataGenerator(\n",
    "    preprocessing_function = preprocess_input)"
   ]
  },
  {
   "cell_type": "code",
   "execution_count": null,
   "id": "6b84a047",
   "metadata": {},
   "outputs": [],
   "source": [
    "train_generator = train_data_generator.flow_from_directory(\n",
    "    directory = train_path,\n",
    "    class_mode = \"sparse\",\n",
    "    target_size = (224,224), batch_size = 16)"
   ]
  },
  {
   "cell_type": "code",
   "execution_count": null,
   "id": "2a34b759",
   "metadata": {},
   "outputs": [],
   "source": [
    "test_data_generator = ImageDataGenerator(\n",
    "    preprocessing_function = preprocess_input)"
   ]
  },
  {
   "cell_type": "code",
   "execution_count": null,
   "id": "5523a6ec",
   "metadata": {},
   "outputs": [],
   "source": [
    "test_generator = test_data_generator.flow_from_directory(\n",
    "    directory = test_path,\n",
    "    class_mode = \"sparse\",\n",
    "    target_size = (224,224), batch_size = 16)"
   ]
  },
  {
   "cell_type": "markdown",
   "id": "2f938b97",
   "metadata": {},
   "source": [
    "# transfer learning on Mobile Net"
   ]
  },
  {
   "cell_type": "code",
   "execution_count": null,
   "id": "47bbfd68",
   "metadata": {},
   "outputs": [],
   "source": [
    "import tensorflow as tf\n",
    "from tensorflow.keras.applications.mobilenet import MobileNet\n",
    "from tensorflow.keras.models import Model, Sequential\n",
    "from tensorflow.keras.layers import Dense, Dropout, Flatten, GlobalAveragePooling2D\n",
    "\n",
    "n_class= 38#df['order'].unique().shape[0]\n",
    "\n",
    "base_model = MobileNet(weights = 'imagenet', include_top = False, input_shape=(224,224,3))\n",
    "\n",
    "# Get the output of the base model\n",
    "base_output = base_model.output\n",
    "\n",
    "for layer in base_model.layers:\n",
    "    layer.trainable = False\n",
    "\n",
    "# Add your custom layers\n",
    "x = GlobalAveragePooling2D()(base_output)  # Flatten layer\n",
    "x = Dense(1024, activation='relu')(x)  # Dense layer\n",
    "x = Dropout(rate=0.3)(x)\n",
    "x = Dense(n_class, activation='softmax')(x)  # Dense layer\n",
    "\n",
    "# Create a new model that includes the base model and your custom layers\n",
    "model_mobile = Model(inputs=base_model.input, outputs=x)"
   ]
  },
  {
   "cell_type": "code",
   "execution_count": null,
   "id": "a20ab8e6",
   "metadata": {},
   "outputs": [],
   "source": [
    "model_mobile.compile(optimizer='adam', \n",
    "               loss='sparse_categorical_crossentropy', \n",
    "               metrics=['acc'])\n",
    "model_mobile.summary()"
   ]
  },
  {
   "cell_type": "code",
   "execution_count": null,
   "id": "15fae74d",
   "metadata": {},
   "outputs": [],
   "source": [
    "from tensorflow.keras.callbacks import EarlyStopping, ModelCheckpoint, TensorBoard\n",
    "import os\n",
    "from datetime import datetime\n",
    "\n",
    "os.environ[\"CUDA_VISIBLE_DEVICES\"]=\"1\"  # specify which GPU(s) to be used\n",
    "\n",
    "# Create an early stopping callback\n",
    "early_stopping = EarlyStopping(monitor='acc', patience=5, min_delta = 0.001)\n",
    "\n",
    "# saving history in a CSV file\n",
    "filename='model_mobile_mixed_history.csv'\n",
    "history_logger=tf.keras.callbacks.CSVLogger(filename, separator=\",\", append=True)\n",
    "\n",
    "# Define the Keras TensorBoard callback.\n",
    "logdir=\"logs/fit/\" + datetime.now().strftime(\"%Y%m%d-%H%M%S\")\n",
    "tensorboard_callback = TensorBoard(log_dir=logdir)\n",
    "\n",
    "# Train the model.\n",
    "\n",
    "model_mobile_history = model_mobile.fit(\n",
    "    train_generator,\n",
    "    epochs = 20,\n",
    "    validation_data=test_generator,\n",
    "    callbacks=[early_stopping, history_logger, tensorboard_callback]\n",
    ")"
   ]
  },
  {
   "cell_type": "code",
   "execution_count": null,
   "id": "e0f09648",
   "metadata": {},
   "outputs": [],
   "source": [
    "# Save the model\n",
    "model_mobile.save('./model_mobile_mixed_checkpoint')"
   ]
  },
  {
   "cell_type": "code",
   "execution_count": null,
   "id": "c9bd6cf9",
   "metadata": {},
   "outputs": [],
   "source": [
    "import pandas as pd\n",
    "model_mobile_history = pd.read_csv('model_mobile_mixed_history.csv')"
   ]
  },
  {
   "cell_type": "code",
   "execution_count": null,
   "id": "4c4c01ce",
   "metadata": {},
   "outputs": [],
   "source": [
    "import matplotlib.pyplot as plt\n",
    "\n",
    "# Assume `history` is the history object returned by the `fit` method\n",
    "# Plot the accuracy and validation accuracy\n",
    "plt.plot(model_mobile_history['acc'])\n",
    "plt.plot(model_mobile_history['val_acc'])\n",
    "plt.title('Model Accuracy')\n",
    "plt.ylabel('Accuracy')\n",
    "plt.xlabel('Epoch')\n",
    "plt.legend(['Train', 'Validation'], loc='upper left')\n",
    "plt.show()"
   ]
  },
  {
   "cell_type": "code",
   "execution_count": null,
   "id": "eaaf75e5",
   "metadata": {},
   "outputs": [],
   "source": [
    "from tensorflow.keras.models import load_model\n",
    "\n",
    "model_mobile = load_model('./model_mobile_mixed_checkpoint')"
   ]
  },
  {
   "cell_type": "code",
   "execution_count": null,
   "id": "131fe5d3",
   "metadata": {},
   "outputs": [],
   "source": [
    "from sklearn.metrics import confusion_matrix\n",
    "\n",
    "y_pred_proba = model_mobile.predict(test_generator)\n",
    "y_pred = np.argmax(y_pred_proba, axis=1)\n",
    "\n",
    "y_true = test_generator.classes"
   ]
  },
  {
   "cell_type": "code",
   "execution_count": null,
   "id": "fd321e4e",
   "metadata": {},
   "outputs": [],
   "source": [
    "from sklearn.metrics import confusion_matrix\n",
    "\n",
    "y_pred_proba = model_mobile.predict(test_generator)\n",
    "y_pred = np.argmax(y_pred_proba, axis=1)\n",
    "\n",
    "y_true = test_generator.classes"
   ]
  },
  {
   "cell_type": "code",
   "execution_count": null,
   "id": "ff87ac07",
   "metadata": {},
   "outputs": [],
   "source": [
    "from sklearn.metrics import confusion_matrix\n",
    "\n",
    "cm = confusion_matrix(y_true, y_pred, normalize = 'true')\n",
    "\n",
    "# Display the confusion matrix\n",
    "plt.figure(figsize=(24, 24)) \n",
    "sns.heatmap(cm, annot=True, cmap='Blues')\n",
    "plt.ylabel('True label')\n",
    "plt.xlabel('Predicted label')\n",
    "plt.show()"
   ]
  },
  {
   "cell_type": "code",
   "execution_count": null,
   "id": "c97aef65",
   "metadata": {},
   "outputs": [],
   "source": [
    "from sklearn.metrics import confusion_matrix\n",
    "\n",
    "cm = confusion_matrix(y_true, y_pred, normalize = 'true')\n",
    "\n",
    "# Display the confusion matrix\n",
    "plt.figure(figsize=(24, 24)) \n",
    "sns.heatmap(cm, annot=True, cmap='Blues')\n",
    "plt.ylabel('True label')\n",
    "plt.xlabel('Predicted label')\n",
    "plt.show()"
   ]
  },
  {
   "cell_type": "code",
   "execution_count": null,
   "id": "dca0b6b5",
   "metadata": {},
   "outputs": [],
   "source": [
    "%tensorboard --logdir logs"
   ]
  },
  {
   "cell_type": "markdown",
   "id": "b931de04",
   "metadata": {},
   "source": [
    "## adding data augmentation"
   ]
  },
  {
   "cell_type": "code",
   "execution_count": null,
   "id": "52d9db20",
   "metadata": {},
   "outputs": [],
   "source": [
    "train_data_generator = ImageDataGenerator(\n",
    "    preprocessing_function=preprocess_input,\n",
    "    rotation_range=20,     # randomly rotate images in the range (degrees, 0 to 180)\n",
    "    width_shift_range=0.3, # randomly shift images horizontally (fraction of total width)\n",
    "    height_shift_range=0.3,# randomly shift images vertically (fraction of total height)\n",
    "    horizontal_flip=True,  # randomly flip images horizontally\n",
    "    vertical_flip = True,\n",
    "    zoom_range=0.4         # Randomly zoom image \n",
    ")"
   ]
  },
  {
   "cell_type": "code",
   "execution_count": null,
   "id": "7148dcc7",
   "metadata": {},
   "outputs": [],
   "source": [
    "train_generator = train_data_generator.flow_from_directory(\n",
    "    directory = train_path,\n",
    "    class_mode = \"sparse\",\n",
    "    target_size = (224,224), batch_size = 16)"
   ]
  },
  {
   "cell_type": "code",
   "execution_count": null,
   "id": "ddc5c552",
   "metadata": {},
   "outputs": [],
   "source": [
    "from tensorflow.keras.callbacks import EarlyStopping, ModelCheckpoint, TensorBoard\n",
    "import os\n",
    "from datetime import datetime\n",
    "\n",
    "os.environ[\"CUDA_VISIBLE_DEVICES\"]=\"1\"  # specify which GPU(s) to be used\n",
    "\n",
    "# Create an early stopping callback\n",
    "early_stopping = EarlyStopping(monitor='acc', patience=5, min_delta = 0.001)\n",
    "\n",
    "# saving history in a CSV file\n",
    "filename='model_mobile_mixed_aug_history.csv'\n",
    "history_logger=tf.keras.callbacks.CSVLogger(filename, separator=\",\", append=True)\n",
    "\n",
    "# Define the Keras TensorBoard callback.\n",
    "logdir=\"logs/fit/\" + datetime.now().strftime(\"%Y%m%d-%H%M%S\")\n",
    "tensorboard_callback = TensorBoard(log_dir=logdir)\n",
    "\n",
    "# Train the model.\n",
    "\n",
    "model_mobile_history = model_mobile.fit(\n",
    "    train_generator,\n",
    "    epochs = 50,\n",
    "    validation_data=test_generator,\n",
    "    callbacks=[early_stopping, history_logger, tensorboard_callback]\n",
    ")"
   ]
  },
  {
   "cell_type": "code",
   "execution_count": null,
   "id": "cf84adbc",
   "metadata": {},
   "outputs": [],
   "source": [
    "# Save the model\n",
    "model_mobile.save('./model_mobile_mixed_aug_checkpoint')"
   ]
  },
  {
   "cell_type": "code",
   "execution_count": null,
   "id": "dad027eb",
   "metadata": {},
   "outputs": [],
   "source": [
    "from sklearn.metrics import confusion_matrix\n",
    "\n",
    "y_pred_proba = model_mobile.predict(test_generator)\n",
    "y_pred = np.argmax(y_pred_proba, axis=1)\n",
    "\n",
    "y_true = test_generator.classes"
   ]
  },
  {
   "cell_type": "code",
   "execution_count": null,
   "id": "c610b80f",
   "metadata": {},
   "outputs": [],
   "source": [
    "from sklearn.metrics import confusion_matrix\n",
    "\n",
    "cm = confusion_matrix(y_true, y_pred, normalize = 'true')\n",
    "\n",
    "# Display the confusion matrix\n",
    "plt.figure(figsize=(24, 24)) \n",
    "sns.heatmap(cm, annot=True, cmap='Blues')\n",
    "plt.ylabel('True label')\n",
    "plt.xlabel('Predicted label')\n",
    "plt.show()"
   ]
  },
  {
   "cell_type": "code",
   "execution_count": null,
   "id": "dd2dffc1",
   "metadata": {},
   "outputs": [],
   "source": [
    "import pandas as pd\n",
    "model_mobile_history = pd.read_csv('model_mobile_mixed_aug_history.csv')"
   ]
  },
  {
   "cell_type": "code",
   "execution_count": null,
   "id": "88b34fa5",
   "metadata": {},
   "outputs": [],
   "source": [
    "import matplotlib.pyplot as plt\n",
    "\n",
    "# Assume `history` is the history object returned by the `fit` method\n",
    "# Plot the accuracy and validation accuracy\n",
    "plt.plot(model_mobile_history['acc'][0:50])\n",
    "plt.plot(model_mobile_history['val_acc'][0:50])\n",
    "plt.title('Model Accuracy')\n",
    "plt.ylabel('Accuracy')\n",
    "plt.xlabel('Epoch')\n",
    "plt.legend(['Train', 'Validation'], loc='upper left')\n",
    "plt.show()"
   ]
  },
  {
   "cell_type": "code",
   "execution_count": null,
   "id": "0ace6003",
   "metadata": {},
   "outputs": [],
   "source": []
  }
 ],
 "metadata": {
  "kernelspec": {
   "display_name": "Python 3",
   "language": "python",
   "name": "python3"
  },
  "language_info": {
   "codemirror_mode": {
    "name": "ipython",
    "version": 3
   },
   "file_extension": ".py",
   "mimetype": "text/x-python",
   "name": "python",
   "nbconvert_exporter": "python",
   "pygments_lexer": "ipython3",
   "version": "3.8.18"
  }
 },
 "nbformat": 4,
 "nbformat_minor": 5
}
