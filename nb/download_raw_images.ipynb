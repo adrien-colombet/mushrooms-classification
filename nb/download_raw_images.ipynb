{
 "cells": [
  {
   "cell_type": "code",
   "execution_count": null,
   "metadata": {},
   "outputs": [
    {
     "name": "stderr",
     "output_type": "stream",
     "text": [
      "  0%|          | 72.4M/15.2G [00:19<26:00, 9.67MB/s]"
     ]
    }
   ],
   "source": [
    "import gdown\n",
    "\n",
    "url = 'https://drive.google.com/uc?id=1FM2WXCFGIwsAtt0tVF_ZYutSp76DZR8N'\n",
    "output = '../raw/mushroom_classification.zip'\n",
    "gdown.download(url, output, quiet=False)"
   ]
  },
  {
   "cell_type": "code",
   "execution_count": 4,
   "metadata": {},
   "outputs": [],
   "source": [
    "import zipfile\n",
    "\n",
    "def unzip_files(archive_name, dir_name):\n",
    "    with zipfile.ZipFile(archive_name, 'r') as zip_ref:\n",
    "        zip_ref.extractall(dir_name)\n",
    "\n",
    "# Usage\n",
    "unzip_files(output, '../raw/')"
   ]
  },
  {
   "cell_type": "code",
   "execution_count": null,
   "metadata": {},
   "outputs": [],
   "source": [
    "import os\n",
    "import glob\n",
    "import shutil\n",
    "\n",
    "source = '../raw/images'\n",
    "\n",
    "def sort_image(img_id):\n",
    "    # Specify the source file and destination directory\n",
    "    \n",
    "    subdir = '0' if (int(img_id) < 100000) else str(img_id)[0]\n",
    "    destination = os.path.join(\"../raw\", subdir)\n",
    "\n",
    "    # Create the destination directory if it doesn't exist\n",
    "    os.makedirs(destination, exist_ok=True)\n",
    "\n",
    "    # Use the move function to move the file\n",
    "    shutil.move(os.path.join(source, img_id + \".jpg\"), os.path.join(destination, img_id + \".jpg\"))\n",
    "\n",
    "\n",
    "# Get all .jpg files in the directory\n",
    "image_files = glob.glob(os.path.join(source, '*.jpg'))\n",
    "\n",
    "# For each image file\n",
    "for image_file in image_files:\n",
    "    # Get the base name of the image file\n",
    "    image_name = os.path.basename(image_file)\n",
    "\n",
    "    # Split the base name into name and extension\n",
    "    img_id, extension = os.path.splitext(image_name)\n",
    "    \n",
    "    # Call the sort_image function with the image name\n",
    "    sort_image(img_id)"
   ]
  },
  {
   "cell_type": "code",
   "execution_count": null,
   "metadata": {},
   "outputs": [],
   "source": []
  }
 ],
 "metadata": {
  "kernelspec": {
   "display_name": "he360",
   "language": "python",
   "name": "python3"
  },
  "language_info": {
   "codemirror_mode": {
    "name": "ipython",
    "version": 3
   },
   "file_extension": ".py",
   "mimetype": "text/x-python",
   "name": "python",
   "nbconvert_exporter": "python",
   "pygments_lexer": "ipython3",
   "version": "3.8.18"
  }
 },
 "nbformat": 4,
 "nbformat_minor": 2
}
