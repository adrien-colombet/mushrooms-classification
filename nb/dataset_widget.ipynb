{
 "cells": [
  {
   "cell_type": "code",
   "execution_count": 1,
   "id": "43c17bb7",
   "metadata": {},
   "outputs": [
    {
     "name": "stderr",
     "output_type": "stream",
     "text": [
      "/var/folders/b5/l_vklzzn26j1cdtjbptl22jr0000gp/T/ipykernel_38779/30591610.py:3: DtypeWarning: Columns (2,5,25,30) have mixed types. Specify dtype option on import or set low_memory=False.\n",
      "  df = pd.read_csv('../dataset/observations_mushroom.csv', index_col='image_id')\n"
     ]
    }
   ],
   "source": [
    "import pandas as pd\n",
    "\n",
    "df = pd.read_csv('../dataset/observations_mushroom.csv', index_col='image_id')"
   ]
  },
  {
   "cell_type": "code",
   "execution_count": 2,
   "id": "c5ad77bc",
   "metadata": {},
   "outputs": [],
   "source": [
    "import pandas as pd\n",
    "\n",
    "def get_row_by_image_id(df: pd.DataFrame, image_id: int) -> pd.Series:\n",
    "    \"\"\"\n",
    "    Returns the row of a DataFrame that matches the given image_id.\n",
    "\n",
    "    :param df: The DataFrame to search.\n",
    "    :param image_id: The image_id to search for.\n",
    "    :return: The row of the DataFrame that matches the given image_id.\n",
    "    \"\"\"\n",
    "    return df.iloc[image_id]"
   ]
  },
  {
   "cell_type": "code",
   "execution_count": 10,
   "id": "75a53902",
   "metadata": {},
   "outputs": [
    {
     "data": {
      "application/vnd.jupyter.widget-view+json": {
       "model_id": "d9f3aa5ee3ba4455811e5d0eed3370a7",
       "version_major": 2,
       "version_minor": 0
      },
      "text/plain": [
       "HBox(children=(Button(description='previous', style=ButtonStyle()), Text(value='', placeholder='Enter image fi…"
      ]
     },
     "metadata": {},
     "output_type": "display_data"
    },
    {
     "data": {
      "application/vnd.jupyter.widget-view+json": {
       "model_id": "4de8710a5f3349b3920ef1b05d1e0894",
       "version_major": 2,
       "version_minor": 0
      },
      "text/plain": [
       "Output()"
      ]
     },
     "metadata": {},
     "output_type": "display_data"
    }
   ],
   "source": [
    "import os\n",
    "import ipywidgets as widgets\n",
    "from IPython.display import display, Image\n",
    "from glob import glob\n",
    "\n",
    "# Set the path to the directory containing the subdirectories with images\n",
    "path = '../dataset/images'\n",
    "\n",
    "# Get a list of all JPG images in the subdirectories\n",
    "images = glob(f'{path}/**/*.jpg', recursive=True)\n",
    "\n",
    "# Create a dictionary to map image filenames to their paths\n",
    "image_dict = {os.path.splitext(os.path.basename(image))[0]: image for image in images}\n",
    "\n",
    "# Create an Output widget to display the images\n",
    "output = widgets.Output()\n",
    "\n",
    "# Create a function to display the image with the given filename\n",
    "def show_image(filename):\n",
    "    with output:\n",
    "        output.clear_output(wait=True)\n",
    "        if filename in image_dict:\n",
    "            display(Image(filename=image_dict[filename]))\n",
    "            display(get_row_by_image_id(df, int(filename)))\n",
    "        else:\n",
    "            print(f'Image not found: {filename}')\n",
    "\n",
    "# Create a Text widget to enter the image filename\n",
    "text = widgets.Text(placeholder='Enter image filename')\n",
    "\n",
    "# Create a Button widget to increment the value entered in the Text widget\n",
    "button_next = widgets.Button(description='next')\n",
    "\n",
    "# Create a Button widget to increment the value entered in the Text widget\n",
    "button_prev = widgets.Button(description='previous')\n",
    "\n",
    "# Create a HBox widget to arrange the slider and button horizontally\n",
    "hbox = widgets.HBox([button_prev, text, button_next])\n",
    "\n",
    "# Display the widgets\n",
    "display(hbox)\n",
    "display(output)\n",
    "\n",
    "\n",
    "# Update the displayed image when the text value changes\n",
    "def on_text_change(change):\n",
    "    show_image(change['new'])\n",
    "\n",
    "text.observe(on_text_change, names='value')\n",
    "\n",
    "# Increment the value entered in the Text widget when the button is clicked\n",
    "def on_button_next_click(b):\n",
    "    try:\n",
    "        value = int(text.value)\n",
    "        text.value = str(value + 1)\n",
    "    except ValueError:\n",
    "        pass\n",
    "    \n",
    "# Decrement the value entered in the Text widget when the button is clicked\n",
    "def on_button_prev_click(b):\n",
    "    try:\n",
    "        value = int(text.value)\n",
    "        text.value = str(value - 1)\n",
    "    except ValueError:\n",
    "        pass\n",
    "\n",
    "button_next.on_click(on_button_next_click)\n",
    "button_prev.on_click(on_button_prev_click)"
   ]
  },
  {
   "cell_type": "code",
   "execution_count": null,
   "id": "c08ff372",
   "metadata": {},
   "outputs": [],
   "source": []
  }
 ],
 "metadata": {
  "kernelspec": {
   "display_name": "Python 3 (ipykernel)",
   "language": "python",
   "name": "python3"
  },
  "language_info": {
   "codemirror_mode": {
    "name": "ipython",
    "version": 3
   },
   "file_extension": ".py",
   "mimetype": "text/x-python",
   "name": "python",
   "nbconvert_exporter": "python",
   "pygments_lexer": "ipython3",
   "version": "3.9.12"
  }
 },
 "nbformat": 4,
 "nbformat_minor": 5
}
