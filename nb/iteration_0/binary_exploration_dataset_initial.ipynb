{
 "cells": [
  {
   "cell_type": "markdown",
   "id": "cab1576c",
   "metadata": {},
   "source": [
    "# Exploration des données"
   ]
  },
  {
   "cell_type": "markdown",
   "id": "00921848",
   "metadata": {},
   "source": [
    "Ce notebook a pour but d'explorer les données initiales dans l'objectif de mettre au point un classifieur de champignons basé sur leur comestibilité."
   ]
  },
  {
   "cell_type": "code",
   "execution_count": null,
   "id": "45aa0d60",
   "metadata": {},
   "outputs": [],
   "source": [
    "# convertion du dataset\n",
    "import pandas as pd\n",
    "import seaborn as sns\n",
    "import matplotlib.pyplot as plt\n",
    "%matplotlib inline\n",
    "import numpy as np\n",
    "import plotly.express as px\n",
    "from datetime import datetime\n",
    "import geopandas\n",
    "import folium\n",
    "from folium import plugins\n",
    "import branca.colormap as cm"
   ]
  },
  {
   "cell_type": "markdown",
   "id": "a9ea54b8",
   "metadata": {},
   "source": [
    "### Données source "
   ]
  },
  {
   "cell_type": "code",
   "execution_count": null,
   "id": "ca6c5ebf",
   "metadata": {},
   "outputs": [],
   "source": [
    "df = pd.read_csv(r'C:\\Users\\renamedadmin\\Documents\\Formation_Datascience\\Projet_Datascientest_Champignons\\Dossier_technique\\02_Pieces_constitutives\\Dataset\\observations_mushroom.csv')"
   ]
  },
  {
   "cell_type": "markdown",
   "id": "96d7ccf5",
   "metadata": {},
   "source": [
    "## Exploration du dataframe de départ"
   ]
  },
  {
   "cell_type": "code",
   "execution_count": null,
   "id": "2ae60d72",
   "metadata": {},
   "outputs": [],
   "source": [
    "# quelques informations de bases\n",
    "display(df.head(), df.info())\n"
   ]
  },
  {
   "cell_type": "markdown",
   "id": "29ffa074",
   "metadata": {},
   "source": [
    "## Creation de la liste des champignons comestibles "
   ]
  },
  {
   "cell_type": "markdown",
   "id": "2e80fd98",
   "metadata": {},
   "source": [
    "Cette liste a été établie à partir de :\n",
    "ANSES : Avis de l’agence nationale de sécurité sanitaire de l’alimentation, de l’environnement et du travail relatif à « une demande d’avis lié à un projet d’arrêté relatif aux variétés comestibles de champignons de culture et sauvages » (Saisine n° 2015-SA-0180).\n",
    "Disponible sur https://www.anses.fr/fr/search?search_api_views_fulltext=liste%20des%20champignons%20comestibles\n",
    "Consulté le 27/06/2023"
   ]
  },
  {
   "cell_type": "code",
   "execution_count": null,
   "id": "aca46596",
   "metadata": {},
   "outputs": [],
   "source": [
    "list_champi_com = ['Agaricus arvensis',\n",
    "'Agaricus bitorquis',\n",
    "'Agaricus campestris',\n",
    "'Agaricus essettei',\n",
    "'Agaricus macrocarpus',\n",
    "'Agaricus osecanus',\n",
    "'Agaricus silvaticus',\n",
    "'Agaricus silvicola',\n",
    "'Agaricus urinascens',\n",
    "'Coprinus comatus',\n",
    "'Boletus mamorensis',\n",
    "'Butyriboletus appendiculatus',\n",
    "'Butyriboletus pseudoregius',\n",
    "'Butyriboletus regius',\n",
    "'Imleria badia',\n",
    "'Leccinum albostipitatum',\n",
    "'Leccinum aurantiacum',\n",
    "'Leccinum duriusculum',\n",
    "'Leccinum pseudoscabrum',\n",
    "'Leccinum scabrum',\n",
    "'Leccinum variicolor',\n",
    "'Leccinum versipelle',\n",
    "'Neoboletus luridiformis',\n",
    "'Suillellus luridus',\n",
    "'Suillellus queletii',\n",
    "'Boletus aereus',\n",
    "'Boletus aestivalis',\n",
    "'Boletus edulis',\n",
    "'Boletus pinophilus',\n",
    "'Agaricus bisporus',\n",
    "'Cantharellus alborufescens',\n",
    "'Cantharellus amethysteus',\n",
    "'Cantharellus cibarius',\n",
    "'Cantharellus cinereus',\n",
    "'Cantharellus ferruginascens',\n",
    "'Cantharellus friesii',\n",
    "'Cantharellus ianthinoxanthus',\n",
    "'Cantharellus lutescens',\n",
    "'Cantharellus melanoxeros',\n",
    "'Cantharellus pallens',\n",
    "'Cantharellus tubaeformis',\n",
    "'Pseudocraterellus undulatus',\n",
    "'Cuphophyllus pratensis',\n",
    "'Cuphophyllus virgineus',\n",
    "'Hygrocybe punicea',\n",
    "'Hygrophorus latitabundus',\n",
    "'Hygrophorus marzuolus',\n",
    "'Hygrophorus nemoreus',\n",
    "'Hygrophorus penarioides',\n",
    "'Hygrophorus russula',\n",
    "'Laccaria amethystina',\n",
    "'Laccaria bicolor',\n",
    "'Laccaria laccata',\n",
    "'Laccaria proxima',\n",
    "'Lactarius deliciosus',\n",
    "'Lactarius picinus',\n",
    "'Lactarius sanguifluus',\n",
    "'Lactarius semisanguifluus',\n",
    "'Lactarius vinosus',\n",
    "'Lactarius volemus',\n",
    "'Chlorophyllum rhacodes',\n",
    "'Leucoagaricus leucothites',\n",
    "'Macrolepiota excoriata',\n",
    "'Macrolepiota mastoidea',\n",
    "'Macrolepiota procera',\n",
    "'Mitrophora semilibera',\n",
    "'Morchella elata',\n",
    "'Morchella esculenta',\n",
    "'Hydnum repandum',\n",
    "'Hydnum rufescens',\n",
    "'Tuber brumale',\n",
    "'Tuber magnatum',\n",
    "'Tuber melanosporum',\n",
    "'Pleurotus citrinopileatus',\n",
    "'Pleurotus cornucopiae',\n",
    "'Pleurotus djamor',\n",
    "'Pleurotus eryngii',\n",
    "'Pleurotus ostreatus',\n",
    "'Pleurotus pulmonarius',\n",
    "'Russula aurea',\n",
    "'Russula cyanoxantha',\n",
    "'Russula integra',\n",
    "'Russula mustelina',\n",
    "'Russula romellii',\n",
    "'Russula vesca',\n",
    "'Russula virescens',\n",
    "'Russula xerampelina',\n",
    "'Clitocybe odora',\n",
    "'Infundibulicybe geotropa',\n",
    "'Infundibulicybe gibba',\n",
    "'Lepista flaccida',\n",
    "'Lepista flaccida',\n",
    "'Lepista glaucocana',\n",
    "'Lepista irina',\n",
    "'Lepista nuda',\n",
    "'Lepista panaeolus',\n",
    "'Lepista personata',\n",
    "'Lepista sordida',\n",
    "'Tricholoma columbetta',\n",
    "'Tricholoma portentosum',\n",
    "'Tricholoma atrosquamosum',\n",
    "'Tricholoma atrosquamosum var. squarrulosum',\n",
    "'Tricholoma cingulatum',\n",
    "'Tricholoma orirubens',\n",
    "'Tricholoma scalpturatum',\n",
    "'Tricholoma terreum',\n",
    "'Craterellus cornucopioides',\n",
    "'Ptychoverpa bohemica',\n",
    "'Verpa conica',\n",
    "'Aleuria aurantia',\n",
    "'Amanita caesarea',\n",
    "'Amanita fulva',\n",
    "'Amanita rubescens',\n",
    "'Amanita vaginata',\n",
    "'Auricularia auricula-judae',\n",
    "'Auricularia polytricha',\n",
    "'Calocybe gambosa',\n",
    "'Calvatia gigantea',\n",
    "'Clitopilus prunulus',\n",
    "'Cortinarius caperatus',\n",
    "'Cortinarius praestans',\n",
    "'Cyclocybe aegerita',\n",
    "'Disciotis venosa',\n",
    "'Entoloma aprile',\n",
    "'Entoloma clypeatum',\n",
    "'Fistulina hepatica',\n",
    "'Flammulina velutipes',\n",
    "'Gomphidius glutinosus',\n",
    "'Gomphus clavatus',\n",
    "'Grifola frondosa',\n",
    "'Guepinia helvelloides',\n",
    "'Gyroporus cyanescens',\n",
    "'Hygrophoropsis aurantiaca',\n",
    "'Hypsizygus tessulatus',\n",
    "'Kuehneromyces mutabilis',\n",
    "'Laetiporus sulphureus',\n",
    "'Lentinula edodes',\n",
    "'Limacella guttata',\n",
    "'Lyophyllum decastes',\n",
    "'Marasmius oreades',\n",
    "'Otidea onotica',\n",
    "'Polyporus umbellatus',\n",
    "'Pseudohydnum gelatinosum',\n",
    "'Ramaria botrytis',\n",
    "'Sparassis crispa',\n",
    "'Stropharia rugosoannulata',\n",
    "'Suillus luteus',\n",
    "'Volvariella volvacea',\n",
    "'Volvopluteus gloiocephalus']"
   ]
  },
  {
   "cell_type": "markdown",
   "id": "6f8a5d3a",
   "metadata": {},
   "source": [
    "Cette liste fait référence aux espèces de champignons comestibles. Trois colonnes de notre dataframe renvoient des informations sur l'espèce d'un champignon :\n",
    "- gbif_info/scientificName,\n",
    "- gbif_info/species\n",
    "- label"
   ]
  },
  {
   "cell_type": "code",
   "execution_count": null,
   "id": "bc5deeb3",
   "metadata": {},
   "outputs": [],
   "source": [
    "# Trouvez la colonne avec le plus de valeurs communes avec la liste de champignons comestibles\n",
    "df1 = df[df['gbif_info/scientificName'].isin(list_champi_com)]\n",
    "df2 = df[df['gbif_info/species'].isin(list_champi_com)]\n",
    "df3 = df[df['label'].isin(list_champi_com)]\n",
    "\n",
    "print(len(df1), len(df2), len(df3))\n"
   ]
  },
  {
   "cell_type": "markdown",
   "id": "7c76bec1",
   "metadata": {},
   "source": [
    "La cible pour établir le caractére comestible d'un champignon sera donc la colonne 'gbif_info/species' de notre dataframe puisqu'elle présente le plus grand nombre de correspondances avec la liste de l'ANSES."
   ]
  },
  {
   "cell_type": "markdown",
   "id": "fdda309f",
   "metadata": {},
   "source": [
    "#### Ajout de la colonne cible au dataframe initial\n",
    "- 0 = non-comestible\n",
    "- 1 = comestible"
   ]
  },
  {
   "cell_type": "code",
   "execution_count": null,
   "id": "8cdabc1a",
   "metadata": {},
   "outputs": [],
   "source": [
    "# ajout d'une colonne 'edible' au dataframe. 0 = champignon non comestible, 1 = champignon comestible\n",
    "def edibility(species) :\n",
    "    if species in list_champi_com:\n",
    "        return 1\n",
    "    else:\n",
    "        return 0\n",
    "    \n",
    "df['edible'] = df['gbif_info/species'].apply(edibility)\n"
   ]
  },
  {
   "cell_type": "code",
   "execution_count": null,
   "id": "053c6a52",
   "metadata": {},
   "outputs": [],
   "source": [
    "# contrôle de la nouvelle colonne\n",
    "df['edible'].value_counts()\n"
   ]
  },
  {
   "cell_type": "markdown",
   "id": "d25aede6",
   "metadata": {},
   "source": [
    "### Exploration de quelques colonnes spécifiques dans l'intéret de l'étude"
   ]
  },
  {
   "cell_type": "markdown",
   "id": "d1760614",
   "metadata": {},
   "source": [
    "Affichage de quelques illustrations pour évaluer le jeu de données initial."
   ]
  },
  {
   "cell_type": "code",
   "execution_count": null,
   "id": "4650fab1",
   "metadata": {},
   "outputs": [],
   "source": [
    "# Création d'une figure pour observer la répartition des 'kingdoms' dans le dataset\n",
    "\n",
    "import seaborn as sns # importer Seaborn sous le nom de sns\n",
    "sns.set() # écraser l’aspect ‘matplotlib’\n",
    "\n",
    "plt.rcParams['figure.figsize'] = [12, 8] \n",
    "#spécifier l'axe des x et l'axe des y\n",
    "ax = df['gbif_info/kingdom'].value_counts().plot(\n",
    "    kind='bar', # Pour créer un graphique à barres avec matplotlib, vous pouvez utiliser la fonction 'bar' ou barh .\n",
    "    stacked=True, \n",
    "    figsize=(12, 8),# déterminer la taille du graphique\n",
    "    colormap='Blues_r', # la couleur des barres\n",
    "    rot=0, # faire pivoter les étiquettes pour l'axe des x a 45 degre\n",
    "    fontsize =14\n",
    "    )\n",
    "\n",
    "plt.xlabel('Kingdoms', fontweight = 'bold', fontsize = 16) # Preciser le nom de l'axe des x et mettre en gras le text\n",
    "plt.ylabel(\"Nombre d'images (log)\", fontweight = 'bold', fontsize = 16) # Preciser le nom de l'axe des y et mettre en gras le text\n",
    "plt.yscale('log')\n"
   ]
  },
  {
   "cell_type": "code",
   "execution_count": null,
   "id": "092fe898",
   "metadata": {},
   "outputs": [],
   "source": [
    "# Création d'une figure pour observer la répartition des 'class' dans le dataset\n",
    "\n",
    "import seaborn as sns # importer Seaborn sous le nom de sns\n",
    "sns.set() # écraser l’aspect ‘matplotlib’\n",
    "\n",
    "plt.rcParams['figure.figsize'] = [12, 8] \n",
    "#spécifier l'axe des x et l'axe des y\n",
    "ax = df['gbif_info/class'].value_counts().plot(\n",
    "    kind='barh', # Pour créer un graphique à barres avec matplotlib, vous pouvez utiliser la fonction 'bar' ou barh .\n",
    "    stacked=True, \n",
    "    figsize=(12, 8),# déterminer la taille du graphique\n",
    "    colormap='Blues_r', # la couleur des barres\n",
    "    rot=0, # faire pivoter les étiquettes pour l'axe des x a 45 degre\n",
    "    fontsize =10\n",
    "    )\n",
    "\n",
    "plt.ylabel('Classes', fontweight = 'bold', fontsize = 16) # Preciser le nom de l'axe des x et mettre en gras le text\n",
    "plt.xlabel(\"Nombre d'images (log)\", fontweight = 'bold', fontsize = 16) # Preciser le nom de l'axe des y et mettre en gras le text\n",
    "plt.xscale('log')"
   ]
  },
  {
   "cell_type": "code",
   "execution_count": null,
   "id": "5312ee29",
   "metadata": {},
   "outputs": [],
   "source": [
    "# Création d'une figure pour observer la répartition des 'species' pour les champignons comestibles\n",
    "\n",
    "import seaborn as sns # importer Seaborn sous le nom de sns\n",
    "sns.set() # écraser l’aspect ‘matplotlib’\n",
    "\n",
    "df_edible = df[df['edible'] == 1]\n",
    "\n",
    "plt.rcParams['figure.figsize'] = [12, 8] \n",
    "#spécifier l'axe des x et l'axe des y\n",
    "ax = df_edible['gbif_info/species'].value_counts().plot(\n",
    "    kind='bar', # Pour créer un graphique à barres avec matplotlib, vous pouvez utiliser la fonction 'bar' ou barh .\n",
    "    stacked=True, \n",
    "    figsize=(12, 6),# déterminer la taille du graphique\n",
    "    colormap='Blues_r', # la couleur des barres\n",
    "    rot=90, # faire pivoter les étiquettes pour l'axe des x a 45 degre\n",
    "    fontsize =6\n",
    "    )\n",
    "\n",
    "plt.xlabel('Species', fontweight = 'bold', fontsize = 16) # Preciser le nom de l'axe des x et mettre en gras le text\n",
    "plt.ylabel(\"Nombre d'images\", fontweight = 'bold', fontsize = 16) # Preciser le nom de l'axe des y et mettre en gras le text\n",
    "#plt.yscale('log')"
   ]
  },
  {
   "cell_type": "code",
   "execution_count": null,
   "id": "f9720676",
   "metadata": {},
   "outputs": [],
   "source": [
    "# création d'une figure de type treemap pour les champignons comestibles\n",
    "\n",
    "# création du dataset de la figure\n",
    "dftree = df_edible[['gbif_info/kingdom', 'gbif_info/phylum', 'gbif_info/class', 'gbif_info/order', 'gbif_info/family', 'gbif_info/genus', 'gbif_info/species']]\n",
    "dftree['Count'] = 0\n",
    "dftree1 = dftree.groupby(['gbif_info/kingdom', 'gbif_info/phylum', 'gbif_info/class', 'gbif_info/order', 'gbif_info/family', 'gbif_info/genus', 'gbif_info/species']).count()[[\"Count\"]]\n",
    "dftree1 = dftree1.reset_index()\n",
    "\n",
    "# génération de la figure\n",
    "fig = px.treemap(dftree1,\n",
    "                 path=['gbif_info/kingdom', 'gbif_info/phylum', 'gbif_info/class', 'gbif_info/order', 'gbif_info/family'],\n",
    "                 values='Count',\n",
    "                 color='gbif_info/order',\n",
    "                 width=1000, height=700,\n",
    "                 title=\"nombre de photos par espèces de champignons\",)\n",
    "\n",
    "fig.show();"
   ]
  },
  {
   "cell_type": "markdown",
   "id": "d825b0e4",
   "metadata": {},
   "source": [
    "#### Exploration temporelle des prises de vue "
   ]
  },
  {
   "cell_type": "code",
   "execution_count": null,
   "id": "fa5206c6",
   "metadata": {},
   "outputs": [],
   "source": [
    "# réalisation d'un graphique permettant d'obsever la quantité d'images ajoutée au jeu de données au fil du temps\n",
    "df_time = df.loc[:,['date', 'gbif_info/kingdom', 'gbif_info/phylum','gbif_info/family','gbif_info/species',\n",
    "             'gbif_info/genus','gbif_info/order','gbif_info/class','edible']]\n",
    "df_time['date']= pd.to_datetime(df_time['date'], format = 'ISO8601')\n",
    "df_time = df_time.set_index('date')\n",
    "df_time['year'] = df_time.index.year\n",
    "df_time['month'] = df_time.index.month\n",
    "df_time['hour'] = df_time.index.month\n",
    "\n",
    "\n",
    "# affichage d'un graphique pour visualiser la saisonnalité d'apparition des champignons\n",
    "\n",
    "axes = df_time.groupby(['month', 'edible'])['gbif_info/kingdom'].count().unstack(1).plot.bar(subplots = True)\n",
    "axes[0].set_ylabel(\"nombre d'images\", fontsize = 15)\n",
    "axes[1].set_ylabel(\"nombre d'images\", fontsize = 15)\n",
    "axes[1].set_xlabel(\"mois\", fontsize = 15)\n",
    "axes[0].xaxis.set_ticklabels(['janv', 'fev', 'mars', 'avr', 'mai', 'juin', 'juil', 'aout', 'sept', 'oct', 'nov', 'dec'], rotation = 90, color = 'red', fontsize = 8, style = 'italic', verticalalignment = 'center')\n",
    "axes[0].set_title('inedible', fontsize = 15)\n",
    "axes[1].set_title('edible', fontsize = 15)\n",
    "#plt.gca().legend().set_visible(False)\n",
    "plt.show()"
   ]
  },
  {
   "cell_type": "code",
   "execution_count": null,
   "id": "e47a1934",
   "metadata": {},
   "outputs": [],
   "source": [
    "# création d'une heatmap des variables numérique du jeu de données initial\n",
    "\n",
    "# génération des données de la figure\n",
    "df_corr = df.select_dtypes(include=[\"float64\", \"int64\"])\n",
    "# df_corr.info()\n",
    "\n",
    "# suppression de la colonne 'gbif_info' qui ne contient que des NaN\n",
    "df_corr.drop(['gbif_info'], axis = 1, inplace = True)\n",
    "\n",
    "# recherche des corrélations\n",
    "result_corr = df_corr.corr()\n",
    "# modification du nombre de décimales dans les résultats à afficher\n",
    "result_corr = result_corr.round(2)\n",
    "\n",
    "# génération de la heatmap\n",
    "f, ax = plt.subplots(figsize=(10, 8))\n",
    "sns.heatmap(result_corr, square=True, vmax=.2, vmin = 0, linewidths=1, cmap = 'Blues')"
   ]
  },
  {
   "cell_type": "code",
   "execution_count": null,
   "id": "3709a380",
   "metadata": {},
   "outputs": [],
   "source": [
    "# création d'une carte représentative des lieux d'observation des champignons\n",
    "df_location = df.loc[:,['gbif_info/kingdom', 'gbif_info/family', 'gbif_info/phylum',\n",
    "       'gbif_info/species', 'gbif_info/class', 'gbif_info/genus', 'gbif_info/order', 'location', 'edible']]\n",
    "#df_location.info()\n",
    "# suppression des NaN\n",
    "df_location.dropna(inplace = True)\n",
    "\n",
    "locations = pd.read_csv(r'C:\\Users\\renamedadmin\\Documents\\Formation_Datascience\\Projet_Datascientest_Champignons\\Dossier_technique\\02_Pieces_constitutives\\Dataset\\CSV_mushromm_observer\\locations.csv', sep = \"\\t\")\n",
    "# quelques informations de bases\n",
    "display(locations.head(), locations.info())\n",
    "display(df_location.head(), df_location.info())\n",
    "\n"
   ]
  },
  {
   "cell_type": "code",
   "execution_count": null,
   "id": "31f8990d",
   "metadata": {},
   "outputs": [],
   "source": [
    "# nettoyage de la colonne df.location pour la faire correspondre avec la colonne locations.id\n",
    "def test_num(x):\n",
    "    try :\n",
    "        int(float(x))\n",
    "        return 1\n",
    "    except:\n",
    "        return 0\n",
    "    \n",
    "def to_num(x):\n",
    "    return int(float(x))\n",
    "\n",
    "df_location['test'] = df_location.location.apply(lambda x: test_num(x))\n",
    "df1 = df_location[df_location.test == 1]\n",
    "df1['id'] = df1.location.apply(lambda x : to_num(x))\n",
    "\n",
    "# creation des données du graph\n",
    "df_geometry = df1.merge(right = locations, on = 'id', how = 'left')\n",
    "df_geometry.drop(['location', 'test', 'name', 'high', 'low'], axis = 1, inplace = True)\n",
    "df_geometry.dropna(inplace = True)\n",
    "\n",
    "geometry = geopandas.points_from_xy(df_geometry.east, df_geometry.north)\n",
    "geo_df = geopandas.GeoDataFrame(\n",
    "    df_geometry[[\"gbif_info/kingdom\", \"gbif_info/family\", \"gbif_info/phylum\", \"gbif_info/species\", \"gbif_info/class\",\n",
    "                 \"gbif_info/genus\", \"gbif_info/order\", 'edible']], geometry=geometry\n",
    ")\n",
    "\n",
    "# affichage de la carte avec folium\n",
    "map = folium.Map(location=[15, 30], tiles=\"Cartodb dark_matter\", zoom_start=2)\n",
    "heat_data = [[point.xy[1][0], point.xy[0][0]] for point in geo_df.geometry]\n",
    "heat_data\n",
    "plugins.HeatMap(heat_data).add_to(map)\n",
    "\n",
    "map\n",
    "#map.save(r'C:\\Users\\renamedadmin\\Documents\\Formation_Datascience\\Projet_Datascientest_Champignons\\Dossier_technique\\02_Pieces_constitutives\\Schémas\\map2.html')"
   ]
  },
  {
   "cell_type": "code",
   "execution_count": null,
   "id": "a8d40242",
   "metadata": {},
   "outputs": [],
   "source": [
    "100 * len(geometry) / len(df)"
   ]
  },
  {
   "cell_type": "markdown",
   "id": "aca8da54",
   "metadata": {},
   "source": [
    "La carte générée représente environ 59% des images du jeu de données initial. Les images semblent provenir de l'ensemble de la planète, avec logiquement plus d'images dans les zones les plus peuplées."
   ]
  }
 ],
 "metadata": {
  "kernelspec": {
   "display_name": "Python 3 (ipykernel)",
   "language": "python",
   "name": "python3"
  },
  "language_info": {
   "codemirror_mode": {
    "name": "ipython",
    "version": 3
   },
   "file_extension": ".py",
   "mimetype": "text/x-python",
   "name": "python",
   "nbconvert_exporter": "python",
   "pygments_lexer": "ipython3",
   "version": "3.9.17"
  }
 },
 "nbformat": 4,
 "nbformat_minor": 5
}
