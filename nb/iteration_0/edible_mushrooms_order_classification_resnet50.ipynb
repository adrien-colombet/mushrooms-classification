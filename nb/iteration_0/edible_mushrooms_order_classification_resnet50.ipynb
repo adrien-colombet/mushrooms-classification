{
 "cells": [
  {
   "cell_type": "code",
   "execution_count": null,
   "id": "8c2ee5a2",
   "metadata": {},
   "outputs": [],
   "source": [
    "!python --version"
   ]
  },
  {
   "cell_type": "code",
   "execution_count": null,
   "id": "282735e6",
   "metadata": {},
   "outputs": [],
   "source": [
    "import tensorflow as tf\n",
    "#import tensorflow_datasets as tfds\n",
    "print(\"TensorFlow version:\", tf.__version__)\n",
    "#print(\"Num GPUs Available: \", len(tf.config.experimental.list_physical_devices('GPU')))"
   ]
  },
  {
   "cell_type": "code",
   "execution_count": null,
   "id": "024bf364",
   "metadata": {},
   "outputs": [],
   "source": [
    "# import du dataset\n",
    "import pandas as pd\n",
    "import seaborn as sns\n",
    "import numpy as np\n"
   ]
  },
  {
   "cell_type": "code",
   "execution_count": null,
   "id": "cae72513",
   "metadata": {},
   "outputs": [],
   "source": [
    "df = pd.read_csv('../../dataset/order_classification/edible_mushrooms.csv')"
   ]
  },
  {
   "cell_type": "code",
   "execution_count": null,
   "id": "a32995fc",
   "metadata": {},
   "outputs": [],
   "source": [
    "import matplotlib.pyplot as plt\n",
    "import seaborn as sns\n",
    "fig, ax = plt.subplots(figsize=(18, 8))\n",
    "ax = sns.countplot(data = df, x = 'order', alpha = 0.7)\n",
    "\n",
    "plt.setp(ax.get_xticklabels(), rotation=30, ha=\"right\")\n",
    "ax.set_xlabel('order')\n",
    "ax.set_ylabel('nombre de photos')\n",
    "ax.set_title('nombre de photos par species pour les champignons comestibles');"
   ]
  },
  {
   "cell_type": "code",
   "execution_count": null,
   "id": "855ef536",
   "metadata": {},
   "outputs": [],
   "source": [
    "max_size = df['order'].value_counts().max()\n",
    "max_size = min(max_size, 5000)"
   ]
  },
  {
   "cell_type": "code",
   "execution_count": null,
   "id": "5a3da8f5",
   "metadata": {},
   "outputs": [],
   "source": [
    "for index, value in df['order'].value_counts().items():\n",
    "    print(f\"{index}: {value}\")"
   ]
  },
  {
   "cell_type": "markdown",
   "id": "fe4be74f",
   "metadata": {},
   "source": [
    "# Generating and balancing data"
   ]
  },
  {
   "cell_type": "code",
   "execution_count": null,
   "id": "c5f7dd4c",
   "metadata": {},
   "outputs": [],
   "source": [
    "path='../../dataset/class_order'\n",
    "train_path='../../dataset/order_classification/train'\n",
    "test_path='../../dataset/order_classification/test'\n",
    "validation_path='../../dataset/order_classification/validation' "
   ]
  },
  {
   "cell_type": "code",
   "execution_count": null,
   "id": "82588c77",
   "metadata": {},
   "outputs": [],
   "source": [
    "from tensorflow.keras.applications.resnet_v2 import preprocess_input\n",
    "from tensorflow.keras.preprocessing.image import ImageDataGenerator"
   ]
  },
  {
   "cell_type": "code",
   "execution_count": null,
   "id": "b6476c26",
   "metadata": {},
   "outputs": [],
   "source": [
    "train_data_generator = ImageDataGenerator(\n",
    "    preprocessing_function = preprocess_input)"
   ]
  },
  {
   "cell_type": "code",
   "execution_count": null,
   "id": "6b84a047",
   "metadata": {},
   "outputs": [],
   "source": [
    "train_generator = train_data_generator.flow_from_directory(\n",
    "    directory = train_path,\n",
    "    class_mode = \"sparse\",\n",
    "    target_size = (224,224), batch_size = 4)"
   ]
  },
  {
   "cell_type": "code",
   "execution_count": null,
   "id": "2a34b759",
   "metadata": {},
   "outputs": [],
   "source": [
    "test_data_generator = ImageDataGenerator(\n",
    "    preprocessing_function = preprocess_input)"
   ]
  },
  {
   "cell_type": "code",
   "execution_count": null,
   "id": "5523a6ec",
   "metadata": {},
   "outputs": [],
   "source": [
    "test_generator = test_data_generator.flow_from_directory(\n",
    "    directory = test_path,\n",
    "    class_mode = \"sparse\",\n",
    "    target_size = (224,224), batch_size = 16)"
   ]
  },
  {
   "cell_type": "code",
   "execution_count": null,
   "id": "735f2aad",
   "metadata": {},
   "outputs": [],
   "source": [
    "validation_data_generator = ImageDataGenerator(\n",
    "    preprocessing_function = preprocess_input)"
   ]
  },
  {
   "cell_type": "code",
   "execution_count": null,
   "id": "11b5055d",
   "metadata": {},
   "outputs": [],
   "source": [
    "validation_generator = validation_data_generator.flow_from_directory(\n",
    "    directory = validation_path,\n",
    "    class_mode = \"sparse\",\n",
    "    target_size = (224,224), batch_size = 16)"
   ]
  },
  {
   "cell_type": "markdown",
   "id": "b8fb9b48",
   "metadata": {},
   "source": [
    "# Resnet50_v2"
   ]
  },
  {
   "cell_type": "code",
   "execution_count": null,
   "id": "47bbfd68",
   "metadata": {},
   "outputs": [],
   "source": [
    "import tensorflow as tf\n",
    "from tensorflow.keras.applications.resnet_v2 import ResNet50V2\n",
    "from tensorflow.keras.models import Model, Sequential\n",
    "from tensorflow.keras.layers import Dense, Dropout, Flatten, GlobalAveragePooling2D\n",
    "\n",
    "n_class= 8#df['order'].unique().shape[0]\n",
    "\n",
    "base_model = ResNet50V2(weights = 'imagenet', include_top = False, input_shape=(224,224,3))\n",
    "\n",
    "for layer in base_model.layers:\n",
    "    layer.trainable = False\n",
    "\n",
    "# Get the output of the base model\n",
    "base_output = base_model.output\n",
    "\n",
    "# Add your custom layers\n",
    "x = GlobalAveragePooling2D()(base_output)  # Flatten layer\n",
    "x = Dense(1024, activation='relu')(x)  # Dense layer\n",
    "x = Dropout(rate=0.1)(x)\n",
    "x = Dense(n_class, activation='softmax')(x)  # Dense layer\n",
    "\n",
    "# Create a new model that includes the base model and your custom layers\n",
    "model_resnet = Model(inputs=base_model.input, outputs=x)\n"
   ]
  },
  {
   "cell_type": "code",
   "execution_count": null,
   "id": "a20ab8e6",
   "metadata": {},
   "outputs": [],
   "source": [
    "model_resnet.compile(optimizer='adam', \n",
    "               loss='sparse_categorical_crossentropy', \n",
    "               metrics=['acc'])\n",
    "model_resnet.summary()"
   ]
  },
  {
   "cell_type": "code",
   "execution_count": null,
   "id": "15fae74d",
   "metadata": {},
   "outputs": [],
   "source": [
    "from keras.callbacks import EarlyStopping\n",
    "from tensorflow.keras.callbacks import ModelCheckpoint\n",
    "import os\n",
    "os.environ[\"CUDA_VISIBLE_DEVICES\"]=\"1\"  # specify which GPU(s) to be used\n",
    "\n",
    "# Create an early stopping callback\n",
    "early_stopping = EarlyStopping(monitor='acc', patience=5, min_delta = 0.001)\n",
    "\n",
    "model_resnet_history = model_resnet.fit(\n",
    "    train_generator,\n",
    "    epochs = 20,\n",
    "    validation_data=test_generator,\n",
    "    callbacks=[early_stopping]\n",
    ")"
   ]
  },
  {
   "cell_type": "code",
   "execution_count": null,
   "id": "e0f09648",
   "metadata": {},
   "outputs": [],
   "source": [
    "# Save the weights\n",
    "model_resnet.save('./model_resnet_checkpoint')"
   ]
  },
  {
   "cell_type": "code",
   "execution_count": null,
   "id": "4c4c01ce",
   "metadata": {},
   "outputs": [],
   "source": [
    "import matplotlib.pyplot as plt\n",
    "\n",
    "# Assume `history` is the history object returned by the `fit` method\n",
    "# Plot the accuracy and validation accuracy\n",
    "plt.plot(model_resnet_history.history['acc'])\n",
    "plt.plot(model_resnet_history.history['val_acc'])\n",
    "plt.title('Model Accuracy')\n",
    "plt.ylabel('Accuracy')\n",
    "plt.xlabel('Epoch')\n",
    "plt.legend(['Train', 'Validation'], loc='upper left')\n",
    "plt.show()"
   ]
  },
  {
   "cell_type": "code",
   "execution_count": null,
   "id": "0c445179",
   "metadata": {},
   "outputs": [],
   "source": [
    "import matplotlib.pyplot as plt\n",
    "\n",
    "# Assume `history` is the history object returned by the `fit` method\n",
    "# Plot the accuracy and validation accuracy\n",
    "plt.plot(model_mobile_history.history['acc'])\n",
    "plt.plot(model_mobile_history.history['val_acc'])\n",
    "plt.title('Model Accuracy')\n",
    "plt.ylabel('Accuracy')\n",
    "plt.xlabel('Epoch')\n",
    "plt.legend(['Train', 'Validation'], loc='upper left')\n",
    "plt.show()"
   ]
  },
  {
   "cell_type": "markdown",
   "id": "aee0d62a",
   "metadata": {},
   "source": [
    "## Confusion Matrix on test dataset"
   ]
  },
  {
   "cell_type": "code",
   "execution_count": null,
   "id": "131fe5d3",
   "metadata": {},
   "outputs": [],
   "source": [
    "from sklearn.metrics import confusion_matrix\n",
    "\n",
    "y_pred_proba = model_mobile.predict(test_generator)\n",
    "y_pred = np.argmax(y_pred_proba, axis=1)\n",
    "\n",
    "y_true = test_generator.classes\n",
    "\n",
    "cm = confusion_matrix(y_true, y_pred)\n",
    "\n",
    "# Display the confusion matrix\n",
    "sns.heatmap(cm, annot=True)\n",
    "plt.ylabel('True label')\n",
    "plt.xlabel('Predicted label')\n",
    "plt.show()"
   ]
  },
  {
   "cell_type": "markdown",
   "id": "258c6c77",
   "metadata": {},
   "source": [
    "## Confusion Matrix on test dataset"
   ]
  },
  {
   "cell_type": "code",
   "execution_count": null,
   "id": "c0db35a9",
   "metadata": {},
   "outputs": [],
   "source": [
    "from sklearn.metrics import confusion_matrix\n",
    "\n",
    "y_pred_proba = model_mobile.predict(validation_generator)\n",
    "y_pred = np.argmax(y_pred_proba, axis=1)\n",
    "\n",
    "y_true = validation_generator.classes\n",
    "\n",
    "cm = confusion_matrix(y_true, y_pred)\n",
    "\n",
    "# Display the confusion matrix\n",
    "sns.heatmap(cm, annot=True)\n",
    "plt.ylabel('True label')\n",
    "plt.xlabel('Predicted label')\n",
    "plt.show()"
   ]
  },
  {
   "cell_type": "code",
   "execution_count": null,
   "id": "bea58ae4",
   "metadata": {},
   "outputs": [],
   "source": [
    "# we can observe the tendency to classify any mushroom as part of the dominant class, a consequence of imbalancing"
   ]
  }
 ],
 "metadata": {
  "kernelspec": {
   "display_name": "Python 3",
   "language": "python",
   "name": "python3"
  },
  "language_info": {
   "codemirror_mode": {
    "name": "ipython",
    "version": 3
   },
   "file_extension": ".py",
   "mimetype": "text/x-python",
   "name": "python",
   "nbconvert_exporter": "python",
   "pygments_lexer": "ipython3",
   "version": "3.8.18"
  }
 },
 "nbformat": 4,
 "nbformat_minor": 5
}
