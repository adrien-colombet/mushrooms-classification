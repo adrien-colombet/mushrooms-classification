{
 "cells": [
  {
   "cell_type": "markdown",
   "id": "c19055bc",
   "metadata": {},
   "source": [
    "# Création_des_datasets_entrainements"
   ]
  },
  {
   "cell_type": "markdown",
   "id": "f2731dc3",
   "metadata": {},
   "source": [
    "L'objectif de ce notebokk ets de constituer différents jeux de données en vue d'entrainer des modèles.\n",
    "    - Pour la classification du caractère comestible : création de 4 jeux de données de taille (L, M, S et XS)\n",
    "    - Pour la taxonomie des champignons comestible : créatoin d'un dataset ne contenant que les champignons comestibles."
   ]
  },
  {
   "cell_type": "code",
   "execution_count": null,
   "id": "10fde042",
   "metadata": {},
   "outputs": [],
   "source": [
    "import pandas as pd\n",
    "from IPython.display import display\n",
    "import matplotlib.pyplot as plt\n",
    "import matplotlib.patches as mpatches\n",
    "import numpy as np\n",
    "%matplotlib inline\n",
    "import plotly.express as px"
   ]
  },
  {
   "cell_type": "code",
   "execution_count": null,
   "id": "aa02aae8",
   "metadata": {},
   "outputs": [],
   "source": [
    "# chargement du dataframe initial\n",
    "source = '../../dataset/'\n",
    "dataset = \"../../dataset/cleaned_dataset.csv\"\n",
    "clean_df = pd.read_csv(dataset)\n",
    "\n",
    "display(clean_df.head(), clean_df.info())\n"
   ]
  },
  {
   "cell_type": "markdown",
   "id": "d4f2a386",
   "metadata": {},
   "source": [
    "### Génération de datasets réduits pour la classification binaire"
   ]
  },
  {
   "cell_type": "code",
   "execution_count": null,
   "id": "708b7c19",
   "metadata": {},
   "outputs": [],
   "source": [
    "RANDOM_STATE = 3\n",
    "\n",
    "# simplification du dataframe initial\n",
    "df = clean_df.drop(['kingdom', 'phylum', 'classes', 'order', 'family', 'genus', 'species'], axis = 1)\n",
    "df.rename({'image_lien' : 'filename'}, axis = 1, inplace = True)\n",
    "\n",
    "# définition des fractions\n",
    "large = 0.5\n",
    "medium = 0.2\n",
    "small = 0.1\n",
    "xsmall = 0.05\n",
    "\n",
    "\n",
    "# constitution des datasets réduits\n",
    "df_L = df.sample(frac = large, ignore_index = True, random_state = RANDOM_STATE)\n",
    "df_M = df.sample(frac = medium, ignore_index = True, random_state = RANDOM_STATE)\n",
    "df_S = df.sample(frac = small, ignore_index = True, random_state = RANDOM_STATE)\n",
    "df_XS = df.sample(frac = xsmall, ignore_index = True, random_state = RANDOM_STATE)\n"
   ]
  },
  {
   "cell_type": "markdown",
   "id": "ed8db05d",
   "metadata": {},
   "source": [
    "#### création d'un graphique représentant les différents datasets"
   ]
  },
  {
   "cell_type": "code",
   "execution_count": null,
   "id": "96109398",
   "metadata": {},
   "outputs": [],
   "source": [
    "# génération des données du graph\n",
    "inedible = []\n",
    "edible = []\n",
    "\n",
    "dataframes = [df, df_L, df_M, df_S, df_XS]\n",
    "for dataframe in dataframes:\n",
    "    count_inedible = dataframe['edible'].value_counts()[0]\n",
    "    inedible.append(count_inedible)\n",
    "    count_edible = dataframe['edible'].value_counts()[1]\n",
    "    edible.append(count_edible)   \n",
    "\n",
    "data = ['df', 'df_L', 'df_M', 'df_S', 'df_XS']\n",
    "edibility = {'inedible': inedible, 'edible' : edible}\n",
    "\n",
    "colonnes = ['df', 'df_L', 'df_M', 'df_S', 'df_XS']\n",
    "sex_counts = {\n",
    "    'inedible': inedible,\n",
    "    'edible': edible\n",
    "}\n",
    "\n",
    "width = 0.6\n",
    "fig, ax = plt.subplots()\n",
    "bottom = np.zeros(5)\n",
    "for i, j in edibility.items():\n",
    "    p = ax.bar(data, j, width, label=i, bottom=bottom)\n",
    "    bottom += j\n",
    "    ax.bar_label(p, label_type='center')\n",
    "ax.set_title('Number of images by category')\n",
    "ax.legend(title = 'categories')\n",
    "\n",
    "plt.show()"
   ]
  },
  {
   "cell_type": "code",
   "execution_count": null,
   "id": "fb62b19a",
   "metadata": {},
   "outputs": [],
   "source": [
    "# sauvegarde des dataframes générés\n",
    "\n",
    "df_L.to_csv(f\"{source}/df_L.csv\", index = False)\n",
    "df_M.to_csv(f\"{source}/df_M.csv\", index = False)\n",
    "df_S.to_csv(f\"{source}/df_S.csv\", index = False)\n",
    "df_XS.to_csv(f\"{source}/df_XS.csv\", index = False)"
   ]
  },
  {
   "cell_type": "markdown",
   "id": "91592808",
   "metadata": {},
   "source": [
    "#### Affichage d'une figure représentant la repartition de la cible de notre étude dans le jeu de données final"
   ]
  },
  {
   "cell_type": "code",
   "execution_count": null,
   "id": "aa8b64bb",
   "metadata": {},
   "outputs": [],
   "source": [
    "# attention, cette cellule est utilise de nombreuses ressources pour affichage !\n",
    "\n",
    "#dataset = clean_df\n",
    "\n",
    "#dataset['edible'].replace(1, 'edible', inplace=True)\n",
    "#dataset['edible'].replace(0, 'inedible', inplace=True)\n",
    "\n",
    "\n",
    "#fig = px.sunburst(dataset.assign(hole=' '),\n",
    "#                  path=['hole','edible', 'kingdom','phylum','classes', 'order', 'family'],\n",
    "#                 width=750, height=750)\n",
    "\n",
    "#fig.show()"
   ]
  },
  {
   "cell_type": "markdown",
   "id": "f66b686c",
   "metadata": {},
   "source": [
    "### Création du dataset pour la taxonomie des champignons comestibles "
   ]
  },
  {
   "cell_type": "code",
   "execution_count": null,
   "id": "d0f5cd56",
   "metadata": {},
   "outputs": [],
   "source": [
    "# création du dataframe d'images de champignons comestibles\n",
    "inedible = clean_df[clean_df['edible'] == 0].index\n",
    "edible_df = clean_df.drop(inedible)\n",
    "edible_df.drop(['edible'], axis = 1, inplace = True)\n",
    "\n",
    "# sauvegarde du dataframe généré\n",
    "edible_df.to_csv(f\"{source}/df_edible.csv\", index = False)"
   ]
  },
  {
   "cell_type": "markdown",
   "id": "0549c4d6",
   "metadata": {},
   "source": [
    "#### Affichage d'une figure représentant la repartition de la cible de notre étude dans le jeu de données final de champignons comestibles"
   ]
  },
  {
   "cell_type": "code",
   "execution_count": null,
   "id": "47027ca5",
   "metadata": {},
   "outputs": [],
   "source": [
    "# attention, cette cellule est utilise de nombreuses ressources pour affichage !\n",
    "\n",
    "#dataset_edible = edible_df\n",
    "\n",
    "#fig = px.sunburst(dataset_edible.assign(hole=' '),\n",
    "#                  path=['hole','order', 'family', 'genus', 'species' ],\n",
    "#                 width=750, height=750)\n",
    "\n",
    "#fig.show()"
   ]
  },
  {
   "cell_type": "code",
   "execution_count": null,
   "id": "4c597905",
   "metadata": {},
   "outputs": [],
   "source": []
  }
 ],
 "metadata": {
  "kernelspec": {
   "display_name": "Python 3 (ipykernel)",
   "language": "python",
   "name": "python3"
  },
  "language_info": {
   "codemirror_mode": {
    "name": "ipython",
    "version": 3
   },
   "file_extension": ".py",
   "mimetype": "text/x-python",
   "name": "python",
   "nbconvert_exporter": "python",
   "pygments_lexer": "ipython3",
   "version": "3.8.18"
  }
 },
 "nbformat": 4,
 "nbformat_minor": 5
}
