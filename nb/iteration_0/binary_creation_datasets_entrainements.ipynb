{
 "cells": [
  {
   "cell_type": "markdown",
   "id": "c19055bc",
   "metadata": {},
   "source": [
    "# Création_des_datasets_entrainements"
   ]
  },
  {
   "cell_type": "markdown",
   "id": "f2731dc3",
   "metadata": {},
   "source": [
    "L'objectif de ce notebokk ets de constituer différents jeux de données en vue d'entrainer des modèles.\n",
    "    - Pour la classification du caractère comestible : création de 4 jeux de données de taille (L, M, S et XS)\n",
    "    - Pour la taxonomie des champignons comestible : créatoin d'un dataset ne contenant que les champignons comestibles."
   ]
  },
  {
   "cell_type": "code",
   "execution_count": 4,
   "id": "10fde042",
   "metadata": {},
   "outputs": [],
   "source": [
    "import pandas as pd\n",
    "from IPython.display import display\n",
    "import matplotlib.pyplot as plt\n",
    "import matplotlib.patches as mpatches\n",
    "import numpy as np\n",
    "%matplotlib inline\n",
    "import plotly.express as px"
   ]
  },
  {
   "cell_type": "code",
   "execution_count": 41,
   "id": "aa02aae8",
   "metadata": {},
   "outputs": [
    {
     "name": "stdout",
     "output_type": "stream",
     "text": [
      "<class 'pandas.core.frame.DataFrame'>\n",
      "RangeIndex: 308960 entries, 0 to 308959\n",
      "Data columns (total 9 columns):\n",
      " #   Column    Non-Null Count   Dtype \n",
      "---  ------    --------------   ----- \n",
      " 0   filename  308960 non-null  object\n",
      " 1   kingdom   308960 non-null  object\n",
      " 2   phylum    308960 non-null  object\n",
      " 3   classes   308960 non-null  object\n",
      " 4   order     308960 non-null  object\n",
      " 5   family    308960 non-null  object\n",
      " 6   genus     308960 non-null  object\n",
      " 7   species   308960 non-null  object\n",
      " 8   edible    308960 non-null  int64 \n",
      "dtypes: int64(1), object(8)\n",
      "memory usage: 21.2+ MB\n"
     ]
    },
    {
     "data": {
      "text/html": [
       "<div>\n",
       "<style scoped>\n",
       "    .dataframe tbody tr th:only-of-type {\n",
       "        vertical-align: middle;\n",
       "    }\n",
       "\n",
       "    .dataframe tbody tr th {\n",
       "        vertical-align: top;\n",
       "    }\n",
       "\n",
       "    .dataframe thead th {\n",
       "        text-align: right;\n",
       "    }\n",
       "</style>\n",
       "<table border=\"1\" class=\"dataframe\">\n",
       "  <thead>\n",
       "    <tr style=\"text-align: right;\">\n",
       "      <th></th>\n",
       "      <th>filename</th>\n",
       "      <th>kingdom</th>\n",
       "      <th>phylum</th>\n",
       "      <th>classes</th>\n",
       "      <th>order</th>\n",
       "      <th>family</th>\n",
       "      <th>genus</th>\n",
       "      <th>species</th>\n",
       "      <th>edible</th>\n",
       "    </tr>\n",
       "  </thead>\n",
       "  <tbody>\n",
       "    <tr>\n",
       "      <th>0</th>\n",
       "      <td>1.jpg</td>\n",
       "      <td>Fungi</td>\n",
       "      <td>Ascomycota</td>\n",
       "      <td>Sordariomycetes</td>\n",
       "      <td>Xylariales</td>\n",
       "      <td>Xylariaceae</td>\n",
       "      <td>Xylaria</td>\n",
       "      <td>Xylaria polymorpha</td>\n",
       "      <td>0</td>\n",
       "    </tr>\n",
       "    <tr>\n",
       "      <th>1</th>\n",
       "      <td>2.jpg</td>\n",
       "      <td>Fungi</td>\n",
       "      <td>Ascomycota</td>\n",
       "      <td>Sordariomycetes</td>\n",
       "      <td>Xylariales</td>\n",
       "      <td>Xylariaceae</td>\n",
       "      <td>Xylaria</td>\n",
       "      <td>Xylaria magnoliae</td>\n",
       "      <td>0</td>\n",
       "    </tr>\n",
       "    <tr>\n",
       "      <th>2</th>\n",
       "      <td>3.jpg</td>\n",
       "      <td>Fungi</td>\n",
       "      <td>Ascomycota</td>\n",
       "      <td>Sordariomycetes</td>\n",
       "      <td>Xylariales</td>\n",
       "      <td>Xylariaceae</td>\n",
       "      <td>Xylaria</td>\n",
       "      <td>Xylaria hypoxylon</td>\n",
       "      <td>0</td>\n",
       "    </tr>\n",
       "    <tr>\n",
       "      <th>3</th>\n",
       "      <td>4.jpg</td>\n",
       "      <td>Fungi</td>\n",
       "      <td>Ascomycota</td>\n",
       "      <td>Sordariomycetes</td>\n",
       "      <td>Xylariales</td>\n",
       "      <td>Xylariaceae</td>\n",
       "      <td>Xylaria</td>\n",
       "      <td>Xylaria hypoxylon</td>\n",
       "      <td>0</td>\n",
       "    </tr>\n",
       "    <tr>\n",
       "      <th>4</th>\n",
       "      <td>6.jpg</td>\n",
       "      <td>Fungi</td>\n",
       "      <td>Basidiomycota</td>\n",
       "      <td>Agaricomycetes</td>\n",
       "      <td>Agaricales</td>\n",
       "      <td>Mycenaceae</td>\n",
       "      <td>Xeromphalina</td>\n",
       "      <td>Xeromphalina campanella</td>\n",
       "      <td>0</td>\n",
       "    </tr>\n",
       "  </tbody>\n",
       "</table>\n",
       "</div>"
      ],
      "text/plain": [
       "  filename kingdom         phylum          classes       order       family  \\\n",
       "0    1.jpg   Fungi     Ascomycota  Sordariomycetes  Xylariales  Xylariaceae   \n",
       "1    2.jpg   Fungi     Ascomycota  Sordariomycetes  Xylariales  Xylariaceae   \n",
       "2    3.jpg   Fungi     Ascomycota  Sordariomycetes  Xylariales  Xylariaceae   \n",
       "3    4.jpg   Fungi     Ascomycota  Sordariomycetes  Xylariales  Xylariaceae   \n",
       "4    6.jpg   Fungi  Basidiomycota   Agaricomycetes  Agaricales   Mycenaceae   \n",
       "\n",
       "          genus                  species  edible  \n",
       "0       Xylaria       Xylaria polymorpha       0  \n",
       "1       Xylaria        Xylaria magnoliae       0  \n",
       "2       Xylaria        Xylaria hypoxylon       0  \n",
       "3       Xylaria        Xylaria hypoxylon       0  \n",
       "4  Xeromphalina  Xeromphalina campanella       0  "
      ]
     },
     "metadata": {},
     "output_type": "display_data"
    },
    {
     "data": {
      "text/plain": [
       "None"
      ]
     },
     "metadata": {},
     "output_type": "display_data"
    }
   ],
   "source": [
    "# chargement du dataframe initial\n",
    "source = r'C:\\Users\\renamedadmin\\Documents\\Formation_Datascience\\Projet_Datascientest_Champignons\\Dossier_technique\\02_Pieces_constitutives\\Dataset'\n",
    "dataset = r'C:\\Users\\renamedadmin\\Documents\\Formation_Datascience\\Projet_Datascientest_Champignons\\Dossier_technique\\02_Pieces_constitutives\\Dataset\\cleaned_cleaned_dataset.csv'\n",
    "clean_df = pd.read_csv(dataset)\n",
    "\n",
    "display(clean_df.head(), clean_df.info())\n"
   ]
  },
  {
   "cell_type": "markdown",
   "id": "d4f2a386",
   "metadata": {},
   "source": [
    "### Génération de datasets réduits pour la classification binaire"
   ]
  },
  {
   "cell_type": "code",
   "execution_count": 10,
   "id": "708b7c19",
   "metadata": {},
   "outputs": [],
   "source": [
    "RANDOM_STATE = 3\n",
    "\n",
    "# simplification du dataframe initial\n",
    "df = clean_df.drop(['kingdom', 'phylum', 'classes', 'order', 'family', 'genus', 'species'], axis = 1)\n",
    "df.rename({'image_lien' : 'filename'}, axis = 1, inplace = True)\n",
    "\n",
    "# définition des fractions\n",
    "large = 0.5\n",
    "medium = 0.2\n",
    "small = 0.1\n",
    "xsmall = 0.05\n",
    "\n",
    "\n",
    "# constitution des datasets réduits\n",
    "df_L = df.sample(frac = large, ignore_index = True, random_state = RANDOM_STATE)\n",
    "df_M = df.sample(frac = medium, ignore_index = True, random_state = RANDOM_STATE)\n",
    "df_S = df.sample(frac = small, ignore_index = True, random_state = RANDOM_STATE)\n",
    "df_XS = df.sample(frac = xsmall, ignore_index = True, random_state = RANDOM_STATE)\n"
   ]
  },
  {
   "cell_type": "markdown",
   "id": "ed8db05d",
   "metadata": {},
   "source": [
    "#### création d'un graphique représentant les différents datasets"
   ]
  },
  {
   "cell_type": "code",
   "execution_count": 12,
   "id": "96109398",
   "metadata": {},
   "outputs": [
    {
     "data": {
      "image/png": "[encoded data removed]",
      "text/plain": [
       "<Figure size 640x480 with 1 Axes>"
      ]
     },
     "metadata": {},
     "output_type": "display_data"
    }
   ],
   "source": [
    "# génération des données du graph\n",
    "inedible = []\n",
    "edible = []\n",
    "\n",
    "dataframes = [df, df_L, df_M, df_S, df_XS]\n",
    "for dataframe in dataframes:\n",
    "    count_inedible = dataframe['edible'].value_counts()[0]\n",
    "    inedible.append(count_inedible)\n",
    "    count_edible = dataframe['edible'].value_counts()[1]\n",
    "    edible.append(count_edible)   \n",
    "\n",
    "data = ['df', 'df_L', 'df_M', 'df_S', 'df_XS']\n",
    "edibility = {'inedible': inedible, 'edible' : edible}\n",
    "\n",
    "colonnes = ['df', 'df_L', 'df_M', 'df_S', 'df_XS']\n",
    "sex_counts = {\n",
    "    'inedible': inedible,\n",
    "    'edible': edible\n",
    "}\n",
    "\n",
    "width = 0.6\n",
    "fig, ax = plt.subplots()\n",
    "bottom = np.zeros(5)\n",
    "for i, j in edibility.items():\n",
    "    p = ax.bar(data, j, width, label=i, bottom=bottom)\n",
    "    bottom += j\n",
    "    ax.bar_label(p, label_type='center')\n",
    "ax.set_title('Number of images by category')\n",
    "ax.legend(title = 'categories')\n",
    "\n",
    "plt.show()"
   ]
  },
  {
   "cell_type": "code",
   "execution_count": 90,
   "id": "fb62b19a",
   "metadata": {},
   "outputs": [],
   "source": [
    "# sauvegarde des dataframes générés\n",
    "\n",
    "df_L.to_csv(f\"{source}/df_L.csv\", index = False)\n",
    "df_M.to_csv(f\"{source}/df_M.csv\", index = False)\n",
    "df_S.to_csv(f\"{source}/df_S.csv\", index = False)\n",
    "df_XS.to_csv(f\"{source}/df_XS.csv\", index = False)"
   ]
  },
  {
   "cell_type": "markdown",
   "id": "91592808",
   "metadata": {},
   "source": [
    "#### Affichage d'une figure représentant la repartition de la cible de notre étude dans le jeu de données final"
   ]
  },
  {
   "cell_type": "code",
   "execution_count": 55,
   "id": "aa8b64bb",
   "metadata": {},
   "outputs": [],
   "source": [
    "# attention, cette cellule est utilise de nombreuses ressources pour affichage !\n",
    "\n",
    "#dataset = clean_df\n",
    "\n",
    "#dataset['edible'].replace(1, 'edible', inplace=True)\n",
    "#dataset['edible'].replace(0, 'inedible', inplace=True)\n",
    "\n",
    "\n",
    "#fig = px.sunburst(dataset.assign(hole=' '),\n",
    "#                  path=['hole','edible', 'kingdom','phylum','classes', 'order', 'family'],\n",
    "#                 width=750, height=750)\n",
    "\n",
    "#fig.show()"
   ]
  },
  {
   "cell_type": "markdown",
   "id": "f66b686c",
   "metadata": {},
   "source": [
    "### Création du dataset pour la taxonomie des champignons comestibles "
   ]
  },
  {
   "cell_type": "code",
   "execution_count": 48,
   "id": "d0f5cd56",
   "metadata": {},
   "outputs": [],
   "source": [
    "# création du dataframe d'images de champignons comestibles\n",
    "inedible = clean_df[clean_df['edible'] == 0].index\n",
    "edible_df = clean_df.drop(inedible)\n",
    "edible_df.drop(['edible'], axis = 1, inplace = True)\n",
    "\n",
    "# sauvegarde du dataframe généré\n",
    "edible_df.to_csv(f\"{source}/df_edible.csv\", index = False)"
   ]
  },
  {
   "cell_type": "markdown",
   "id": "0549c4d6",
   "metadata": {},
   "source": [
    "#### Affichage d'une figure représentant la repartition de la cible de notre étude dans le jeu de données final de champignons comestibles"
   ]
  },
  {
   "cell_type": "code",
   "execution_count": 51,
   "id": "47027ca5",
   "metadata": {},
   "outputs": [],
   "source": [
    "# attention, cette cellule est utilise de nombreuses ressources pour affichage !\n",
    "\n",
    "#dataset_edible = edible_df\n",
    "\n",
    "#fig = px.sunburst(dataset_edible.assign(hole=' '),\n",
    "#                  path=['hole','order', 'family', 'genus', 'species' ],\n",
    "#                 width=750, height=750)\n",
    "\n",
    "#fig.show()"
   ]
  },
  {
   "cell_type": "code",
   "execution_count": null,
   "id": "4c597905",
   "metadata": {},
   "outputs": [],
   "source": []
  }
 ],
 "metadata": {
  "kernelspec": {
   "display_name": "Python 3 (ipykernel)",
   "language": "python",
   "name": "python3"
  },
  "language_info": {
   "codemirror_mode": {
    "name": "ipython",
    "version": 3
   },
   "file_extension": ".py",
   "mimetype": "text/x-python",
   "name": "python",
   "nbconvert_exporter": "python",
   "pygments_lexer": "ipython3",
   "version": "3.9.17"
  }
 },
 "nbformat": 4,
 "nbformat_minor": 5
}
