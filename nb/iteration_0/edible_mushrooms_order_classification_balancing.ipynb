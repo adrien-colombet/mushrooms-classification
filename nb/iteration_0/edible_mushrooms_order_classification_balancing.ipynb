{
 "cells": [
  {
   "cell_type": "code",
   "execution_count": null,
   "id": "8c2ee5a2",
   "metadata": {},
   "outputs": [],
   "source": [
    "!python --version"
   ]
  },
  {
   "cell_type": "code",
   "execution_count": null,
   "id": "282735e6",
   "metadata": {},
   "outputs": [],
   "source": [
    "import tensorflow as tf\n",
    "#import tensorflow_datasets as tfds\n",
    "print(\"TensorFlow version:\", tf.__version__)\n",
    "#print(\"Num GPUs Available: \", len(tf.config.experimental.list_physical_devices('GPU')))"
   ]
  },
  {
   "cell_type": "code",
   "execution_count": null,
   "id": "024bf364",
   "metadata": {},
   "outputs": [],
   "source": [
    "# import du dataset\n",
    "import pandas as pd\n",
    "import seaborn as sns\n",
    "import numpy as np"
   ]
  },
  {
   "cell_type": "code",
   "execution_count": null,
   "id": "cae72513",
   "metadata": {},
   "outputs": [],
   "source": [
    "df = pd.read_csv('../../dataset/order_classification/edible_mushrooms.csv')"
   ]
  },
  {
   "cell_type": "code",
   "execution_count": null,
   "id": "a32995fc",
   "metadata": {},
   "outputs": [],
   "source": [
    "import matplotlib.pyplot as plt\n",
    "import seaborn as sns\n",
    "fig, ax = plt.subplots(figsize=(6, 4))\n",
    "ax = sns.countplot(data = df, x = 'order', alpha = 0.7)\n",
    "\n",
    "plt.setp(ax.get_xticklabels(), rotation=30, ha=\"right\")\n",
    "ax.set_xlabel('order')\n",
    "ax.set_ylabel('nombre de photos')\n",
    "ax.set_title('nombre de photos par species pour les champignons comestibles');"
   ]
  },
  {
   "cell_type": "code",
   "execution_count": null,
   "id": "855ef536",
   "metadata": {},
   "outputs": [],
   "source": [
    "max_size = df['order'].value_counts().max()\n",
    "max_size = min(max_size, 5000)"
   ]
  },
  {
   "cell_type": "code",
   "execution_count": null,
   "id": "5a3da8f5",
   "metadata": {},
   "outputs": [],
   "source": [
    "for index, value in df['order'].value_counts().items():\n",
    "    print(f\"{index}: {value}\")"
   ]
  },
  {
   "cell_type": "markdown",
   "id": "fe4be74f",
   "metadata": {},
   "source": [
    "# Generating and balancing data"
   ]
  },
  {
   "cell_type": "code",
   "execution_count": null,
   "id": "c5f7dd4c",
   "metadata": {},
   "outputs": [],
   "source": [
    "path='../../dataset/class_order'\n",
    "train_path='../../dataset/order_classification/train'\n",
    "test_path='../../dataset/order_classification/test'\n",
    "validation_path='../../dataset/order_classification/validation' "
   ]
  },
  {
   "cell_type": "code",
   "execution_count": null,
   "id": "82588c77",
   "metadata": {},
   "outputs": [],
   "source": [
    "from tensorflow.keras.applications.mobilenet import preprocess_input\n",
    "from tensorflow.keras.preprocessing.image import ImageDataGenerator"
   ]
  },
  {
   "cell_type": "code",
   "execution_count": null,
   "id": "316b64be",
   "metadata": {},
   "outputs": [],
   "source": [
    "train_data_generator = ImageDataGenerator(\n",
    "    preprocessing_function = preprocess_input,\n",
    "    shear_range = 0.2, # random application of shearing\n",
    "    zoom_range = 0.2,\n",
    "    rotation_range = 45,\n",
    "    width_shift_range = 0.2,\n",
    "    height_shift_range = 0.2,\n",
    "    vertical_flip = True,\n",
    "    fill_mode = 'nearest')"
   ]
  },
  {
   "cell_type": "code",
   "execution_count": null,
   "id": "07343b0d",
   "metadata": {},
   "outputs": [],
   "source": [
    "train_generator = train_data_generator.flow_from_directory(\n",
    "    directory = train_path,\n",
    "    class_mode = \"sparse\",\n",
    "    target_size = (224,224), batch_size = 16)"
   ]
  },
  {
   "cell_type": "code",
   "execution_count": null,
   "id": "97fe7263",
   "metadata": {},
   "outputs": [],
   "source": [
    "import os \n",
    "\n",
    "# For each class, generate new images until it has as many images as the dominant class\n",
    "for order, size in df['order'].value_counts().items():\n",
    "    class_dir = os.path.join(train_path, order)\n",
    "    num_new_images = max_size - size\n",
    "    print(class_dir)\n",
    "\n",
    "    i = 0\n",
    "    for batch in train_data_generator.flow_from_directory(\n",
    "        directory = train_path,\n",
    "        batch_size = 16, \n",
    "        classes = [order],\n",
    "        class_mode = \"sparse\",\n",
    "        target_size = (224,224),\n",
    "        save_to_dir = class_dir, \n",
    "        save_prefix='aug', \n",
    "        save_format='jpg'):\n",
    "\n",
    "        i += 1\n",
    "        if i >= num_new_images:\n",
    "            break  # otherwise the generator would loop indefinitely"
   ]
  },
  {
   "cell_type": "code",
   "execution_count": null,
   "id": "2a34b759",
   "metadata": {},
   "outputs": [],
   "source": [
    "test_data_generator = ImageDataGenerator(\n",
    "    preprocessing_function = preprocess_input,\n",
    "    shear_range = 0.2, # random application of shearing\n",
    "    zoom_range = 0.2,\n",
    "    rotation_range = 45,\n",
    "    width_shift_range = 0.2,\n",
    "    height_shift_range = 0.2,\n",
    "    vertical_flip = True,\n",
    "    fill_mode = 'nearest')"
   ]
  },
  {
   "cell_type": "code",
   "execution_count": null,
   "id": "5523a6ec",
   "metadata": {},
   "outputs": [],
   "source": [
    "test_generator = test_data_generator.flow_from_directory(\n",
    "    directory = test_path,\n",
    "    class_mode = \"sparse\",\n",
    "    target_size = (224,224), batch_size = 16)"
   ]
  },
  {
   "cell_type": "code",
   "execution_count": null,
   "id": "17a27d1d",
   "metadata": {},
   "outputs": [],
   "source": [
    "import os \n",
    "\n",
    "max_size = min(max_size, 500)\n",
    "\n",
    "# For each class, generate new images until it has as many images as the dominant class\n",
    "for order, size in df['order'].value_counts().items():\n",
    "    class_dir = os.path.join(test_path, order)\n",
    "    num_new_images = max_size - size\n",
    "    print(class_dir)\n",
    "\n",
    "    i = 0\n",
    "    for batch in test_data_generator.flow_from_directory(\n",
    "        directory = test_path,\n",
    "        batch_size = 16, \n",
    "        classes = [order],\n",
    "        class_mode = \"sparse\",\n",
    "        target_size = (224,224),\n",
    "        save_to_dir = class_dir, \n",
    "        save_prefix='aug', \n",
    "        save_format='jpg'):\n",
    "\n",
    "        i += 1\n",
    "        if i >= num_new_images:\n",
    "            break  # otherwise the generator would loop indefinitely"
   ]
  }
 ],
 "metadata": {
  "kernelspec": {
   "display_name": "Python 3",
   "language": "python",
   "name": "python3"
  },
  "language_info": {
   "codemirror_mode": {
    "name": "ipython",
    "version": 3
   },
   "file_extension": ".py",
   "mimetype": "text/x-python",
   "name": "python",
   "nbconvert_exporter": "python",
   "pygments_lexer": "ipython3",
   "version": "3.8.18"
  }
 },
 "nbformat": 4,
 "nbformat_minor": 5
}
