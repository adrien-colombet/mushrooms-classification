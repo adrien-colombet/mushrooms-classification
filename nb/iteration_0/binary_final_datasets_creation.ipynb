{
 "cells": [
  {
   "cell_type": "markdown",
   "id": "ba8006b0",
   "metadata": {},
   "source": [
    "# Création des jeux de données"
   ]
  },
  {
   "cell_type": "markdown",
   "id": "a3081c84",
   "metadata": {},
   "source": [
    "Les inputs de ce notebook sont :\n",
    "- le fichier .csv de départ de l'étude\n",
    "- le dossier d'images initial\n",
    "\n",
    "les outputs de ce notebook sont :\n",
    "- un dataframe (cleaned_dataset.csv) sauvegardé dans le dossier cible de l'étude contenant les données nettoyées (champignons comestibles et non comestibles)\n",
    "- un dataframe (cleaned_dataset_edible.csv) sauvegardé dans le dossier cible de l'étude contenant les données nettoyées (champignons comestibles uniquement)\n",
    "- un dossier d'images correspondant aux images contenues dans cleaned_dataset.csv dans un sous-dossier 'dataset_cleaned'\n",
    "- un dossier d'images correspondant aux images contenues dans cleaned_dataset_edible.csv dans un sous-dossier 'edible_dataset_cleaned'\n"
   ]
  },
  {
   "cell_type": "code",
   "execution_count": null,
   "id": "fd015360",
   "metadata": {},
   "outputs": [],
   "source": [
    "from IPython.display import display\n",
    "import pandas as pd\n",
    "import numpy as np\n",
    "import os\n",
    "import shutil\n",
    "import plotly.express as px\n"
   ]
  },
  {
   "cell_type": "markdown",
   "id": "61b6de02",
   "metadata": {},
   "source": [
    "### Définition du répertoire source et du dataset source"
   ]
  },
  {
   "cell_type": "code",
   "execution_count": null,
   "id": "cada8c84",
   "metadata": {},
   "outputs": [],
   "source": [
    "target_dir = r'../../raw/'\n",
    "file_to_open = 'observations_mushroom.csv'\n",
    "images_dir = \"../../raw/\"\n",
    "dataset_dir = \"../../dataset/\""
   ]
  },
  {
   "cell_type": "markdown",
   "id": "29d84417",
   "metadata": {},
   "source": [
    "# Préparation du dataset d'images inital"
   ]
  },
  {
   "cell_type": "markdown",
   "id": "b6c5c523",
   "metadata": {},
   "source": [
    "#### Import et nettoyage du jeu de données initial "
   ]
  },
  {
   "cell_type": "code",
   "execution_count": null,
   "id": "2c487689",
   "metadata": {},
   "outputs": [],
   "source": [
    "# import du dataset d'origine du use_case\n",
    "df = pd.read_csv(os.path.join(target_dir, file_to_open))\n",
    "\n",
    "# suppression des colonnes sans interet\n",
    "df = df.drop(columns = ['image_id', 'observation', 'label', 'image_url', 'user',\n",
    "       'date', 'gbif_info/speciesKey',\n",
    "       'gbif_info/orderKey',\n",
    "       'gbif_info/confidence', 'gbif_info/classKey',\n",
    "       'gbif_info/matchType', 'gbif_info/familyKey', 'gbif_info/status',\n",
    "       'gbif_info/usageKey', 'gbif_info/kingdomKey', 'gbif_info/genusKey',\n",
    "       'gbif_info/canonicalName', 'gbif_info/phylumKey', 'gbif_info/synonym', 'gbif_info/scientificName',\n",
    "       'thumbnail', 'location', 'gbif_info/note', 'gbif_info'])\n",
    "\n",
    "# rename des colonnes de df avec des noms plus explicites\n",
    "df = df.rename(columns={\"gbif_info/species\" : 'species',\n",
    "                   \"gbif_info/class\" : 'classes',\n",
    "                  \"gbif_info/order\" : 'order',\n",
    "                  \"gbif_info/family\" : 'family',\n",
    "                  \"gbif_info/genus\" : 'genus',\n",
    "                  \"gbif_info/kingdom\" : 'kingdom',\n",
    "                  \"gbif_info/rank\" : 'rank',\n",
    "                  \"gbif_info/phylum\" : 'phylum',\n",
    "                       \"image_lien\" : \"filename\"})\n",
    "\n",
    "# reorganisation des colonnes de df\n",
    "df = df.reindex(columns=['filename','kingdom', 'phylum', 'classes', 'order', 'family', 'genus', 'species'])\n",
    "\n",
    "# suppression des lignes des df faisant référence à nue meme image\n",
    "df = df.drop_duplicates(subset=\"filename\")\n",
    "\n",
    "# suppression des NaN de df\n",
    "df.dropna(inplace = True)\n",
    "\n",
    "# affichage de quelques informations sur le jeu de données initial nettoyé\n",
    "display(df.head(), df.info())\n"
   ]
  },
  {
   "cell_type": "markdown",
   "id": "a8f40466",
   "metadata": {},
   "source": [
    "# Creation de la colonne cible"
   ]
  },
  {
   "cell_type": "markdown",
   "id": "a2a8978f",
   "metadata": {},
   "source": [
    "la liste des champignons comestibles utilisées provient de la source :\n",
    "ANSES : Avis de l’agence nationale de sécurité sanitaire de l’alimentation, de l’environnement et du travail relatif à « une demande d’avis lié à un projet d’arrêté relatif aux variétés comestibles de champignons de culture et sauvages » (Saisine n° 2015-SA-0180)\n",
    "Disponible sur https://www.anses.fr/fr/search?search_api_views_fulltext=liste%20des%20champignons%20comestibles\n",
    "Consultée pour la dernière fois le 30/11/2023"
   ]
  },
  {
   "cell_type": "code",
   "execution_count": null,
   "id": "41685e8d",
   "metadata": {},
   "outputs": [],
   "source": [
    "# creation de la liste des champignons comestibles\n",
    "\n",
    "list_edible = ['Agaricus arvensis',\n",
    "'Agaricus bitorquis',\n",
    "'Agaricus campestris',\n",
    "'Agaricus essettei',\n",
    "'Agaricus macrocarpus',\n",
    "'Agaricus osecanus',\n",
    "'Agaricus silvaticus',\n",
    "'Agaricus silvicola',\n",
    "'Agaricus urinascens',\n",
    "'Coprinus comatus',\n",
    "'Boletus mamorensis',\n",
    "'Butyriboletus appendiculatus',\n",
    "'Butyriboletus pseudoregius',\n",
    "'Butyriboletus regius',\n",
    "'Imleria badia',\n",
    "'Leccinum albostipitatum',\n",
    "'Leccinum aurantiacum',\n",
    "'Leccinum duriusculum',\n",
    "'Leccinum pseudoscabrum',\n",
    "'Leccinum scabrum',\n",
    "'Leccinum variicolor',\n",
    "'Leccinum versipelle',\n",
    "'Neoboletus luridiformis',\n",
    "'Suillellus luridus',\n",
    "'Suillellus queletii',\n",
    "'Boletus aereus',\n",
    "'Boletus aestivalis',\n",
    "'Boletus edulis',\n",
    "'Boletus pinophilus',\n",
    "'Agaricus bisporus',\n",
    "'Cantharellus alborufescens',\n",
    "'Cantharellus amethysteus',\n",
    "'Cantharellus cibarius',\n",
    "'Cantharellus cinereus',\n",
    "'Cantharellus ferruginascens',\n",
    "'Cantharellus friesii',\n",
    "'Cantharellus ianthinoxanthus',\n",
    "'Cantharellus lutescens',\n",
    "'Cantharellus melanoxeros',\n",
    "'Cantharellus pallens',\n",
    "'Cantharellus tubaeformis',\n",
    "'Pseudocraterellus undulatus',\n",
    "'Cuphophyllus pratensis',\n",
    "'Cuphophyllus virgineus',\n",
    "'Hygrocybe punicea',\n",
    "'Hygrophorus latitabundus',\n",
    "'Hygrophorus marzuolus',\n",
    "'Hygrophorus nemoreus',\n",
    "'Hygrophorus penarioides',\n",
    "'Hygrophorus russula',\n",
    "'Laccaria amethystina',\n",
    "'Laccaria bicolor',\n",
    "'Laccaria laccata',\n",
    "'Laccaria proxima',\n",
    "'Lactarius deliciosus',\n",
    "'Lactarius picinus',\n",
    "'Lactarius sanguifluus',\n",
    "'Lactarius semisanguifluus',\n",
    "'Lactarius vinosus',\n",
    "'Lactarius volemus',\n",
    "'Chlorophyllum rhacodes',\n",
    "'Leucoagaricus leucothites',\n",
    "'Macrolepiota excoriata',\n",
    "'Macrolepiota mastoidea',\n",
    "'Macrolepiota procera',\n",
    "'Mitrophora semilibera',\n",
    "'Morchella elata',\n",
    "'Morchella esculenta',\n",
    "'Hydnum repandum',\n",
    "'Hydnum rufescens',\n",
    "'Tuber brumale',\n",
    "'Tuber magnatum',\n",
    "'Tuber melanosporum',\n",
    "'Pleurotus citrinopileatus',\n",
    "'Pleurotus cornucopiae',\n",
    "'Pleurotus djamor',\n",
    "'Pleurotus eryngii',\n",
    "'Pleurotus ostreatus',\n",
    "'Pleurotus pulmonarius',\n",
    "'Russula aurea',\n",
    "'Russula cyanoxantha',\n",
    "'Russula integra',\n",
    "'Russula mustelina',\n",
    "'Russula romellii',\n",
    "'Russula vesca',\n",
    "'Russula virescens',\n",
    "'Russula xerampelina',\n",
    "'Clitocybe odora',\n",
    "'Infundibulicybe geotropa',\n",
    "'Infundibulicybe gibba',\n",
    "'Lepista flaccida',\n",
    "'Lepista flaccida',\n",
    "'Lepista glaucocana',\n",
    "'Lepista irina',\n",
    "'Lepista nuda',\n",
    "'Lepista panaeolus',\n",
    "'Lepista personata',\n",
    "'Lepista sordida',\n",
    "'Tricholoma columbetta',\n",
    "'Tricholoma portentosum',\n",
    "'Tricholoma atrosquamosum',\n",
    "'Tricholoma atrosquamosum var. squarrulosum',\n",
    "'Tricholoma cingulatum',\n",
    "'Tricholoma orirubens',\n",
    "'Tricholoma scalpturatum',\n",
    "'Tricholoma terreum',\n",
    "'Craterellus cornucopioides',\n",
    "'Ptychoverpa bohemica',\n",
    "'Verpa conica',\n",
    "'Aleuria aurantia',\n",
    "'Amanita caesarea',\n",
    "'Amanita fulva',\n",
    "'Amanita rubescens',\n",
    "'Amanita vaginata',\n",
    "'Auricularia auricula-judae',\n",
    "'Auricularia polytricha',\n",
    "'Calocybe gambosa',\n",
    "'Calvatia gigantea',\n",
    "'Clitopilus prunulus',\n",
    "'Cortinarius caperatus',\n",
    "'Cortinarius praestans',\n",
    "'Cyclocybe aegerita',\n",
    "'Disciotis venosa',\n",
    "'Entoloma aprile',\n",
    "'Entoloma clypeatum',\n",
    "'Fistulina hepatica',\n",
    "'Flammulina velutipes',\n",
    "'Gomphidius glutinosus',\n",
    "'Gomphus clavatus',\n",
    "'Grifola frondosa',\n",
    "'Guepinia helvelloides',\n",
    "'Gyroporus cyanescens',\n",
    "'Hygrophoropsis aurantiaca',\n",
    "'Hypsizygus tessulatus',\n",
    "'Kuehneromyces mutabilis',\n",
    "'Laetiporus sulphureus',\n",
    "'Lentinula edodes',\n",
    "'Limacella guttata',\n",
    "'Lyophyllum decastes',\n",
    "'Marasmius oreades',\n",
    "'Otidea onotica',\n",
    "'Polyporus umbellatus',\n",
    "'Pseudohydnum gelatinosum',\n",
    "'Ramaria botrytis',\n",
    "'Sparassis crispa',\n",
    "'Stropharia rugosoannulata',\n",
    "'Suillus luteus',\n",
    "'Volvariella volvacea',\n",
    "'Volvopluteus gloiocephalus']\n",
    "\n",
    "# assignation de la valeur 1 si l'espece est comestible, 0 le cas échéant\n",
    "df = df.assign(edible=df[\"species\"].isin(list_edible))\n",
    "df['edible'] = df['edible'].apply(int)\n",
    "\n",
    "# affichage de quelques informations sur le dataset final de l'étude\n",
    "display(df.head(), df.info())\n"
   ]
  },
  {
   "cell_type": "markdown",
   "id": "4f4f2673",
   "metadata": {},
   "source": [
    "#### affichage d'une figure représentant la repartition de la cible de notre étude dans le jeu de données final"
   ]
  },
  {
   "cell_type": "code",
   "execution_count": null,
   "id": "6a4dce3b",
   "metadata": {},
   "outputs": [],
   "source": [
    "# attention, cette cellule est utilise de nombreuses ressources pour affichage !\n",
    "\n",
    "#dataset = df\n",
    "\n",
    "#dataset['edible'].replace(1, 'edible', inplace=True)\n",
    "#dataset['edible'].replace(0, 'inedible', inplace=True)\n",
    "\n",
    "\n",
    "#fig = px.sunburst(dataset.assign(hole=' '),\n",
    "#                  path=['hole','edible', 'kingdom','phylum','classes', 'order', 'family', 'genus', 'species' ],\n",
    "#                 width=750, height=750)\n",
    "\n",
    "#fig.show()"
   ]
  },
  {
   "cell_type": "markdown",
   "id": "72761236",
   "metadata": {},
   "source": [
    "# Nettoyage de la base de données d'images correspondant au dataframe"
   ]
  },
  {
   "cell_type": "markdown",
   "id": "ea8b3198",
   "metadata": {},
   "source": [
    "### Pour la classification sur la comestibilité"
   ]
  },
  {
   "cell_type": "code",
   "execution_count": null,
   "id": "d70efc1a",
   "metadata": {},
   "outputs": [],
   "source": [
    "# création d'un nouveau dossier qui contiendra les images pour la classification binaire (comestible / non-comestible)\n",
    "try:\n",
    "    dataset_cleaned = dataset_dir + '/dataset_cleaned'\n",
    "    os.mkdir(dataset_cleaned)\n",
    "except FileExistsError:\n",
    "    pass\n",
    "\n",
    "\n",
    "# extraction des noms d'images du dataframe\n",
    "images_names = df['filename'].tolist()\n",
    "\n",
    "missing_picture = []\n",
    "# itération sur les noms d'images\n",
    "for image_name in images_names :    \n",
    "    # trouver l'image dans le dossier d'origine\n",
    "    img_id = int(image_name[:-4])\n",
    "    subdir = '0' if (img_id < 100000) else str(img_id)[0]\n",
    "    original_image_path = os.path.join(images_dir, subdir, image_name)\n",
    "\n",
    "    # copie de l'image dans le dossier de destination\n",
    "    new_image_path = os.path.join(dataset_cleaned, image_name)\n",
    "    if os.path.exists(original_image_path):\n",
    "        shutil.copy(original_image_path, new_image_path)\n",
    "    else:\n",
    "        position_backslash = original_image_path.rfind(\"\\\\\")\n",
    "        picture = original_image_path[position_backslash + 1 :]\n",
    "        missing_picture.append(picture)\n",
    "\n",
    "\n"
   ]
  },
  {
   "cell_type": "code",
   "execution_count": null,
   "id": "1918ddc0",
   "metadata": {},
   "outputs": [],
   "source": [
    "# controle de la correspondance entre le dataset et le dataframe\n",
    "print(len(df), len(os.listdir(dataset_cleaned)))"
   ]
  },
  {
   "cell_type": "code",
   "execution_count": null,
   "id": "62f06a67",
   "metadata": {},
   "outputs": [],
   "source": [
    "#si nécessaire, afin de nettoyer le dataframe....\n",
    "'''\n",
    "# suppression des lignes de df pour lesquelles il n'y a pas d images    \n",
    "df = df.drop(df[df[\"filename\"].isin(missing_picture)].index)\n",
    "\n",
    "print(len(df), len(os.listdir(dataset_cleaned)))\n",
    "'''\n"
   ]
  },
  {
   "cell_type": "markdown",
   "id": "9b53add7",
   "metadata": {},
   "source": [
    "### Pour la classification sur la taxonomie "
   ]
  },
  {
   "cell_type": "code",
   "execution_count": null,
   "id": "99ee45c8",
   "metadata": {},
   "outputs": [],
   "source": [
    "# création d'un nouveau dossier qui contiendra les images de champignons comestibles\n",
    "os.mkdir(target_dir + '\\edible_dataset_cleaned')\n",
    "edible_dataset_cleaned = target_dir + '\\edible_dataset_cleaned'\n",
    "\n",
    "# extraction des noms d'images du dataframe\n",
    "df_edible = df[df['edible'] == 1]\n",
    "images_names_edibles = df_edible['filename'].tolist()\n",
    "\n",
    "missing_picture = []\n",
    "# itération sur les noms d'images\n",
    "for image_name in images_names_edibles :    \n",
    "    # trouver l'image dans le dossier d'origine\n",
    "    original_image_path = os.path.join(images_dir, image_name)\n",
    "    # copie de l'image dans le dossier de destination\n",
    "    new_image_path = os.path.join(edible_dataset_cleaned, image_name)\n",
    "    if os.path.exists(original_image_path):\n",
    "        shutil.copy(original_image_path, new_image_path)\n",
    "    else:\n",
    "        position_backslash = original_image_path.rfind(\"\\\\\")\n",
    "        picture = original_image_path[position_backslash + 1 :]\n",
    "        missing_picture.append(picture)\n",
    "\n",
    "# controle de la correspondance entre le dataset et le dataframe\n",
    "print(len(df_edible), len(os.listdir(edible_dataset_cleaned)))"
   ]
  },
  {
   "cell_type": "code",
   "execution_count": null,
   "id": "2b5fa354",
   "metadata": {},
   "outputs": [],
   "source": [
    "#si nécessaire, afin de nettoyer le dataframe....\n",
    "'''\n",
    "# suppression des lignes de df_edible pour lesquelles il n'y a pas d images    \n",
    "df_edible = df_edible.drop(df_edible[df_edible[\"filename\"].isin(missing_picture)].index)\n",
    "\n",
    "print(len(df_edible), len(os.listdir(edible_dataset_cleaned)))\n",
    "'''"
   ]
  },
  {
   "cell_type": "markdown",
   "id": "6291d6cb",
   "metadata": {},
   "source": [
    "## Extraction des nouveaux dataframes nettoyés"
   ]
  },
  {
   "cell_type": "code",
   "execution_count": null,
   "id": "6034262e",
   "metadata": {},
   "outputs": [],
   "source": [
    "## Export des dataframes nettoyés\n",
    "\n",
    "# nom des dataframes exportés\n",
    "name = \"cleaned_dataset.csv\"\n",
    "name_edible = \"cleaned_dataset_edible.csv\"\n",
    "\n",
    "# export du dataframe\n",
    "df.to_csv(os.path.join(dataset_dir, name), index = False)\n",
    "#df_edible.to_csv(os.path.join(target_dir, name_edible), index = False)\n"
   ]
  }
 ],
 "metadata": {
  "kernelspec": {
   "display_name": "Python 3 (ipykernel)",
   "language": "python",
   "name": "python3"
  },
  "language_info": {
   "codemirror_mode": {
    "name": "ipython",
    "version": 3
   },
   "file_extension": ".py",
   "mimetype": "text/x-python",
   "name": "python",
   "nbconvert_exporter": "python",
   "pygments_lexer": "ipython3",
   "version": "3.8.18"
  }
 },
 "nbformat": 4,
 "nbformat_minor": 5
}
